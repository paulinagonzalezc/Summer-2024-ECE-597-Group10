{
  "nbformat": 4,
  "nbformat_minor": 0,
  "metadata": {
    "colab": {
      "provenance": []
    },
    "kernelspec": {
      "name": "python3",
      "display_name": "Python 3"
    },
    "language_info": {
      "name": "python"
    }
  },
  "cells": [
    {
      "cell_type": "code",
      "execution_count": 6,
      "metadata": {
        "colab": {
          "base_uri": "https://localhost:8080/"
        },
        "id": "HVmaIDRSm4xN",
        "outputId": "748f4b29-a22d-4df7-d869-cf59218ca43b"
      },
      "outputs": [
        {
          "output_type": "stream",
          "name": "stdout",
          "text": [
            "Accuracy Logistic Regression: 0.9571150097465887\n",
            "Confusion Matrix Logistic Regression:\n",
            "[[1001   19]\n",
            " [  47  472]]\n",
            "Accuracy of Random Forest: 0.9525666016894087\n",
            "Confusion Matrix Random Forest :\n",
            "[[1010   10]\n",
            " [  63  456]]\n",
            "Accuracy SVM: 0.9740090968161144\n",
            "Confusion Matrix SVM:\n",
            "[[1000   20]\n",
            " [  20  499]]\n"
          ]
        }
      ],
      "source": [
        "import pandas as pd\n",
        "from sklearn.feature_extraction.text import TfidfVectorizer\n",
        "from sklearn.model_selection import train_test_split\n",
        "from sklearn.linear_model import LogisticRegression\n",
        "from sklearn.ensemble import RandomForestClassifier\n",
        "from sklearn.svm import SVC\n",
        "from sklearn.metrics import accuracy_score, confusion_matrix\n",
        "\n",
        "# Load the dataset with text data and labels\n",
        "dataset_path = '/content/masterDatasetFinal.csv'\n",
        "masterData = pd.read_csv(dataset_path)\n",
        "\n",
        "#PLEASE DO THIS EVERYTIME\n",
        "# Drop rows with NaN values in the 'Body' column\n",
        "masterData.dropna(subset=['Body'], inplace=True)\n",
        "\n",
        "# Split the dataset into training and testing sets, including labels\n",
        "train_data, test_data = train_test_split(masterData, test_size=0.20, random_state=42)\n",
        "\n",
        "# Save the labels for training and testing sets\n",
        "train_data[['label']].to_csv('train_labels.csv', index=False)\n",
        "test_data[['label']].to_csv('test_labels.csv', index=False)\n",
        "\n",
        "# Initialize the TfidfVectorizer\n",
        "tfidf_vectorizer = TfidfVectorizer()\n",
        "\n",
        "# Fit and transform the training data\n",
        "X_train_tfidf = tfidf_vectorizer.fit_transform(train_data['Body'])\n",
        "\n",
        "# Transform the testing data\n",
        "X_test_tfidf = tfidf_vectorizer.transform(test_data['Body'])\n",
        "\n",
        "# Load the labels\n",
        "y_train = train_data['label']\n",
        "y_test = test_data['label']\n",
        "\n",
        "# Initialize and train the logistic regression model\n",
        "logistic_model = LogisticRegression(random_state=42)\n",
        "logistic_model.fit(X_train_tfidf, y_train)\n",
        "\n",
        "# Predict the labels for the test set\n",
        "y_pred = logistic_model.predict(X_test_tfidf)\n",
        "\n",
        "# Calculate accuracy\n",
        "accuracy = accuracy_score(y_test, y_pred)\n",
        "print(\"Accuracy Logistic Regression:\", accuracy)\n",
        "\n",
        "# Calculate confusion matrix\n",
        "conf_matrix = confusion_matrix(y_test, y_pred)\n",
        "print(\"Confusion Matrix Logistic Regression:\")\n",
        "print(conf_matrix)\n",
        "\n",
        "# Initialize and train the Random Forest classifier\n",
        "random_forest_model = RandomForestClassifier(random_state=42)\n",
        "random_forest_model.fit(X_train_tfidf, y_train)\n",
        "\n",
        "# Predict the labels for the test set\n",
        "y_pred = random_forest_model.predict(X_test_tfidf)\n",
        "\n",
        "# Calculate accuracy\n",
        "accuracy = accuracy_score(y_test, y_pred)\n",
        "print(\"Accuracy of Random Forest:\", accuracy)\n",
        "\n",
        "# Calculate confusion matrix\n",
        "conf_matrix = confusion_matrix(y_test, y_pred)\n",
        "print(\"Confusion Matrix Random Forest :\")\n",
        "print(conf_matrix)\n",
        "\n",
        "# Initialize and train the SVM classifier\n",
        "svm_model = SVC(kernel='linear', random_state=42, probability=True)\n",
        "svm_model.fit(X_train_tfidf, y_train)\n",
        "\n",
        "# Predict the labels for the test set\n",
        "y_pred = svm_model.predict(X_test_tfidf)\n",
        "\n",
        "# Calculate accuracy\n",
        "accuracy = accuracy_score(y_test, y_pred)\n",
        "print(\"Accuracy SVM:\", accuracy)\n",
        "\n",
        "# Calculate confusion matrix\n",
        "conf_matrix = confusion_matrix(y_test, y_pred)\n",
        "print(\"Confusion Matrix SVM:\")\n",
        "print(conf_matrix)"
      ]
    }
  ]
}