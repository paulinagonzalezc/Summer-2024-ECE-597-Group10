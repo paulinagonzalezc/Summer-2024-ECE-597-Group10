{
 "cells": [
  {
   "cell_type": "code",
   "execution_count": 6,
   "metadata": {
    "colab": {
     "base_uri": "https://localhost:8080/"
    },
    "id": "IARBcs0TWutR",
    "outputId": "0dd4580c-b3c3-45ac-b58b-cf1a3ba86b67"
   },
   "outputs": [
    {
     "name": "stdout",
     "output_type": "stream",
     "text": [
      "Fitting 5 folds for each of 9 candidates, totalling 45 fits\n",
      "Best score: 0.941\n",
      "Best parameters set:\n",
      "\tclf__C: 10\n",
      "\tclf__solver: 'lbfgs'\n",
      "Accuracy: 0.9601731601731601\n",
      "Confusion Matrix:\n",
      "[[747  16]\n",
      " [ 30 362]]\n",
      "Classification Report:\n",
      "              precision    recall  f1-score   support\n",
      "\n",
      "           0       0.96      0.98      0.97       763\n",
      "           1       0.96      0.92      0.94       392\n",
      "\n",
      "    accuracy                           0.96      1155\n",
      "   macro avg       0.96      0.95      0.96      1155\n",
      "weighted avg       0.96      0.96      0.96      1155\n",
      "\n"
     ]
    }
   ],
   "source": [
    "import pandas as pd\n",
    "from gensim.models import Word2Vec\n",
    "from sklearn.base import BaseEstimator, TransformerMixin\n",
    "from sklearn.pipeline import Pipeline\n",
    "from sklearn.preprocessing import StandardScaler\n",
    "from sklearn.linear_model import LogisticRegression\n",
    "from sklearn.model_selection import train_test_split, GridSearchCV\n",
    "from sklearn.metrics import accuracy_score, classification_report, confusion_matrix\n",
    "import numpy as np\n",
    "\n",
    "# Load all 3 datasets\n",
    "trainData = pd.read_csv('/content/trainData.csv').dropna(subset=['Body'])\n",
    "testData = pd.read_csv('/content/testData.csv').dropna(subset=['Body'])\n",
    "valData = pd.read_csv('/content/validationData.csv').dropna(subset=['Body'])\n",
    "\n",
    "# Setup the data\n",
    "X_train = trainData['Body']\n",
    "y_train = trainData['label']\n",
    "X_test = testData['Body']\n",
    "y_test = testData['label']\n",
    "X_val = valData['Body']\n",
    "y_val = valData['label']\n",
    "\n",
    "# Tokenize the text\n",
    "def tokenize_text(text):\n",
    "    return text.split()\n",
    "\n",
    "# Word2Vec model\n",
    "model = Word2Vec([tokenize_text(text) for text in X_train], vector_size=100, window=5, min_count=1, workers=4)\n",
    "class Word2VecVectorizer(BaseEstimator, TransformerMixin):\n",
    "    def __init__(self, model):\n",
    "        self.model = model\n",
    "        self.size = model.vector_size\n",
    "\n",
    "    def fit(self, X, y=None):\n",
    "        return self\n",
    "\n",
    "    def transform(self, X):\n",
    "        return np.array([\n",
    "            np.mean([self.model.wv[word] for word in tokenize_text(text) if word in self.model.wv]\n",
    "                    or [np.zeros(self.size)], axis=0)\n",
    "            for text in X\n",
    "        ])\n",
    "\n",
    "# pipeline with scaling\n",
    "pipeline = Pipeline([\n",
    "    ('w2v', Word2VecVectorizer(model)),\n",
    "    ('scale', StandardScaler()),  # Add scaling\n",
    "    ('clf', LogisticRegression(random_state=42, max_iter=10000, solver='lbfgs')),\n",
    "])\n",
    "\n",
    "# parameters for GridSearchCV\n",
    "parameters = {\n",
    "    'clf__C': [0.1, 1, 10],\n",
    "    'clf__solver': ['lbfgs', 'sag', 'saga']\n",
    "}\n",
    "\n",
    "grid_search = GridSearchCV(pipeline, parameters, cv=5, n_jobs=-1, verbose=1)\n",
    "grid_search.fit(X_val, y_val)\n",
    "\n",
    "#best score and parameters\n",
    "print(\"Best score: %0.3f\" % grid_search.best_score_)\n",
    "print(\"Best parameters set:\")\n",
    "best_parameters = grid_search.best_estimator_.get_params()\n",
    "for param_name in sorted(parameters.keys()):\n",
    "    print(\"\\t%s: %r\" % (param_name, best_parameters[param_name]))\n",
    "\n",
    "# Use the best parameters to re-train the final model\n",
    "pipeline.set_params(**best_parameters)\n",
    "pipeline.fit(X_train, y_train)\n",
    "\n",
    "# Evaluate the model on the test data\n",
    "predictions = pipeline.predict(X_test)\n",
    "print(\"Accuracy:\", accuracy_score(y_test, predictions))\n",
    "print(\"Confusion Matrix:\")\n",
    "print(confusion_matrix(y_test, predictions))\n",
    "print(\"Classification Report:\")\n",
    "print(classification_report(y_test, predictions))\n"
   ]
  }
 ],
 "metadata": {
  "colab": {
   "provenance": []
  },
  "kernelspec": {
   "display_name": "Python 3 (ipykernel)",
   "language": "python",
   "name": "python3"
  },
  "language_info": {
   "codemirror_mode": {
    "name": "ipython",
    "version": 3
   },
   "file_extension": ".py",
   "mimetype": "text/x-python",
   "name": "python",
   "nbconvert_exporter": "python",
   "pygments_lexer": "ipython3",
   "version": "3.10.9"
  }
 },
 "nbformat": 4,
 "nbformat_minor": 1
}
