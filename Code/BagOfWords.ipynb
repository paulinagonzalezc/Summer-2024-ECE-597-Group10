{
  "nbformat": 4,
  "nbformat_minor": 0,
  "metadata": {
    "colab": {
      "provenance": []
    },
    "kernelspec": {
      "name": "python3",
      "display_name": "Python 3"
    },
    "language_info": {
      "name": "python"
    }
  },
  "cells": [
    {
      "cell_type": "code",
      "execution_count": 1,
      "metadata": {
        "colab": {
          "base_uri": "https://localhost:8080/"
        },
        "id": "HlxEcN6lkBSp",
        "outputId": "3fcdda10-1eb8-4602-9c7e-ef829443af06"
      },
      "outputs": [
        {
          "output_type": "stream",
          "name": "stdout",
          "text": [
            "Fitting 5 folds for each of 12 candidates, totalling 60 fits\n",
            "Best score: 0.954\n",
            "Best parameters set:\n",
            "\tbow__max_df: 0.75\n",
            "\tbow__ngram_range: (1, 1)\n",
            "\tclf__C: 1\n",
            "Accuracy: 0.9731601731601731\n",
            "Confusion Matrix:\n",
            "[[754   9]\n",
            " [ 22 370]]\n",
            "Classification Report:\n",
            "              precision    recall  f1-score   support\n",
            "\n",
            "           0       0.97      0.99      0.98       763\n",
            "           1       0.98      0.94      0.96       392\n",
            "\n",
            "    accuracy                           0.97      1155\n",
            "   macro avg       0.97      0.97      0.97      1155\n",
            "weighted avg       0.97      0.97      0.97      1155\n",
            "\n"
          ]
        }
      ],
      "source": [
        "import pandas as pd\n",
        "from sklearn.feature_extraction.text import TfidfVectorizer\n",
        "from sklearn.model_selection import train_test_split, GridSearchCV\n",
        "from sklearn.linear_model import LogisticRegression\n",
        "from sklearn.ensemble import RandomForestClassifier\n",
        "from sklearn.svm import SVC\n",
        "from sklearn.pipeline import Pipeline\n",
        "from sklearn.metrics import accuracy_score,classification_report, confusion_matrix\n",
        "from sklearn.feature_extraction.text import CountVectorizer\n",
        "\n",
        "# Load the datasets\n",
        "trainData = pd.read_csv('/content/trainData.csv').dropna(subset=['Body'])\n",
        "testData = pd.read_csv('/content/testData.csv').dropna(subset=['Body'])\n",
        "valData = pd.read_csv('/content/validationData.csv').dropna(subset=['Body'])\n",
        "\n",
        "# Setup the data\n",
        "X_train = trainData['Body']\n",
        "y_train = trainData['label']\n",
        "X_test = testData['Body']\n",
        "y_test = testData['label']\n",
        "X_val = valData['Body']\n",
        "y_val = valData['label']\n",
        "\n",
        "\n",
        "# Define a pipeline combining a text feature extractor with a simple classifier\n",
        "pipeline = Pipeline([\n",
        "    ('bow', CountVectorizer()),\n",
        "    ('clf', LogisticRegression(random_state=42)),\n",
        "])\n",
        "\n",
        "# Adjust parameters if needed\n",
        "parameters = {\n",
        "    'bow__max_df': (0.75, 0.85),\n",
        "    'bow__ngram_range': [(1, 1), (1, 2)],\n",
        "    'clf__C': [0.1, 1, 10],\n",
        "}\n",
        "\n",
        "# Using GridSearchCV to find the best parameters on the validation set\n",
        "grid_search = GridSearchCV(pipeline, parameters, cv=5, n_jobs=-1, verbose=1)\n",
        "grid_search.fit(X_val, y_val)\n",
        "\n",
        "# Print best score and parameters\n",
        "print(\"Best score: %0.3f\" % grid_search.best_score_)\n",
        "print(\"Best parameters set:\")\n",
        "best_parameters = grid_search.best_estimator_.get_params()\n",
        "for param_name in sorted(parameters.keys()):\n",
        "    print(\"\\t%s: %r\" % (param_name, best_parameters[param_name]))\n",
        "\n",
        "# Use the best parameters to re-train the final model\n",
        "pipeline.set_params(**best_parameters)\n",
        "pipeline.fit(X_train, y_train)\n",
        "\n",
        "# Evaluate the model on the test data\n",
        "predictions = pipeline.predict(X_test)\n",
        "print(\"Accuracy:\", accuracy_score(y_test, predictions))\n",
        "print(\"Confusion Matrix:\")\n",
        "print(confusion_matrix(y_test, predictions))\n",
        "print(\"Classification Report:\")\n",
        "print(classification_report(y_test, predictions))\n"
      ]
    },
    {
      "cell_type": "code",
      "source": [
        "pipeline_rf = Pipeline([\n",
        "    ('bow', CountVectorizer()),  # Changed from 'tfidf' to 'bow'\n",
        "    ('clf', RandomForestClassifier(random_state=42)),\n",
        "])\n",
        "\n",
        "# Parameters to tune\n",
        "parameters_rf = {\n",
        "    'bow__max_df': (0.75, 0.85),\n",
        "    'bow__ngram_range': [(1, 1), (1, 2)],  # unigrams or bigrams\n",
        "    'clf__n_estimators': [100, 300],  # number of trees in the forest\n",
        "    'clf__max_depth': [10, 20, None]  # maximum depth of the tree\n",
        "}\n",
        "\n",
        "# Using GridSearchCV to find the best parameters on the validation set\n",
        "grid_search_rf = GridSearchCV(pipeline_rf, parameters_rf, cv=5, n_jobs=-1, verbose=1)\n",
        "grid_search_rf.fit(X_val, y_val)\n",
        "\n",
        "# Print best score and parameters\n",
        "print(\"Best score (Random Forest): %0.3f\" % grid_search_rf.best_score_)\n",
        "print(\"Best parameters set (Random Forest):\")\n",
        "best_parameters_rf = grid_search_rf.best_estimator_.get_params()\n",
        "for param_name in sorted(parameters_rf.keys()):\n",
        "    print(\"\\t%s: %r\" % (param_name, best_parameters_rf[param_name]))\n",
        "\n",
        "# Use the best parameters to re-train the final model\n",
        "pipeline_rf.set_params(**best_parameters_rf)\n",
        "pipeline_rf.fit(X_train, y_train)\n",
        "\n",
        "# Evaluate the model on the test data\n",
        "predictions_rf = pipeline_rf.predict(X_test)\n",
        "print(\"Accuracy (Random Forest):\", accuracy_score(y_test, predictions_rf))\n",
        "print(\"Confusion Matrix (Random Forest):\")\n",
        "print(confusion_matrix(y_test, predictions_rf))\n",
        "print(\"Classification Report (Random Forest):\")\n",
        "print(classification_report(y_test, predictions_rf))"
      ],
      "metadata": {
        "colab": {
          "base_uri": "https://localhost:8080/"
        },
        "id": "ttcRBokclTzI",
        "outputId": "038d5b86-8e9c-404f-bf78-afdc4cf93dc4"
      },
      "execution_count": 4,
      "outputs": [
        {
          "output_type": "stream",
          "name": "stdout",
          "text": [
            "Fitting 5 folds for each of 24 candidates, totalling 120 fits\n",
            "Best score (Random Forest): 0.950\n",
            "Best parameters set (Random Forest):\n",
            "\tbow__max_df: 0.75\n",
            "\tbow__ngram_range: (1, 1)\n",
            "\tclf__max_depth: None\n",
            "\tclf__n_estimators: 100\n",
            "Accuracy (Random Forest): 0.9705627705627705\n",
            "Confusion Matrix (Random Forest):\n",
            "[[757   6]\n",
            " [ 28 364]]\n",
            "Classification Report (Random Forest):\n",
            "              precision    recall  f1-score   support\n",
            "\n",
            "           0       0.96      0.99      0.98       763\n",
            "           1       0.98      0.93      0.96       392\n",
            "\n",
            "    accuracy                           0.97      1155\n",
            "   macro avg       0.97      0.96      0.97      1155\n",
            "weighted avg       0.97      0.97      0.97      1155\n",
            "\n"
          ]
        }
      ]
    },
    {
      "cell_type": "code",
      "source": [
        "# Define a pipeline combining a text feature extractor with a classifier\n",
        "pipeline_svm = Pipeline([\n",
        "    ('bow', CountVectorizer()),  # Changed from 'tfidf' to 'bow'\n",
        "    ('clf', SVC(random_state=42)),\n",
        "])\n",
        "\n",
        "# Parameters to tune\n",
        "parameters_svm = {\n",
        "    'bow__max_df': (0.75, 0.85),\n",
        "    'bow__ngram_range': [(1, 1), (1, 2)],  # unigrams or bigrams\n",
        "    'clf__C': [0.1, 1, 10],\n",
        "    'clf__kernel': ['linear', 'rbf']\n",
        "}\n",
        "\n",
        "# Using GridSearchCV to find the best parameters on the validation set\n",
        "grid_search_svm = GridSearchCV(pipeline_svm, parameters_svm, cv=5, n_jobs=-1, verbose=1)\n",
        "grid_search_svm.fit(X_val, y_val)\n",
        "\n",
        "# Print best score and parameters\n",
        "print(\"Best score (SVM): %0.3f\" % grid_search_svm.best_score_)\n",
        "print(\"Best parameters set (SVM):\")\n",
        "best_parameters_svm = grid_search_svm.best_estimator_.get_params()\n",
        "for param_name in sorted(parameters_svm.keys()):\n",
        "    print(\"\\t%s: %r\" % (param_name, best_parameters_svm[param_name]))\n",
        "\n",
        "# Use the best parameters to re-train the final model\n",
        "pipeline_svm.set_params(**best_parameters_svm)\n",
        "pipeline_svm.fit(X_train, y_train)\n",
        "\n",
        "# Evaluate the model on the test data\n",
        "predictions_svm = pipeline_svm.predict(X_test)\n",
        "print(\"Accuracy (SVM):\", accuracy_score(y_test, predictions_svm))\n",
        "print(\"Confusion Matrix (SVM):\")\n",
        "print(confusion_matrix(y_test, predictions_svm))\n",
        "print(\"Classification Report (SVM):\")\n",
        "print(classification_report(y_test, predictions_svm))"
      ],
      "metadata": {
        "colab": {
          "base_uri": "https://localhost:8080/"
        },
        "id": "zeQGbYGOlk0W",
        "outputId": "0cb4900c-07cf-4f0b-b24e-601a902019f5"
      },
      "execution_count": 6,
      "outputs": [
        {
          "output_type": "stream",
          "name": "stdout",
          "text": [
            "Fitting 5 folds for each of 24 candidates, totalling 120 fits\n",
            "Best score (SVM): 0.942\n",
            "Best parameters set (SVM):\n",
            "\tbow__max_df: 0.75\n",
            "\tbow__ngram_range: (1, 1)\n",
            "\tclf__C: 10\n",
            "\tclf__kernel: 'rbf'\n",
            "Accuracy (SVM): 0.9627705627705627\n",
            "Confusion Matrix (SVM):\n",
            "[[761   2]\n",
            " [ 41 351]]\n",
            "Classification Report (SVM):\n",
            "              precision    recall  f1-score   support\n",
            "\n",
            "           0       0.95      1.00      0.97       763\n",
            "           1       0.99      0.90      0.94       392\n",
            "\n",
            "    accuracy                           0.96      1155\n",
            "   macro avg       0.97      0.95      0.96      1155\n",
            "weighted avg       0.96      0.96      0.96      1155\n",
            "\n"
          ]
        }
      ]
    }
  ]
}