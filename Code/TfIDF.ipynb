{
 "cells": [
  {
   "cell_type": "code",
   "execution_count": 4,
   "metadata": {
    "colab": {
     "base_uri": "https://localhost:8080/"
    },
    "id": "HlxEcN6lkBSp",
    "outputId": "e66367c4-c4d0-4420-dc80-50c535d4eee8"
   },
   "outputs": [
    {
     "name": "stdout",
     "output_type": "stream",
     "text": [
      "Fitting 5 folds for each of 12 candidates, totalling 60 fits\n",
      "Best score: 0.954\n",
      "Best parameters set:\n",
      "\tclf__C: 10\n",
      "\ttfidf__max_df: 0.75\n",
      "\ttfidf__ngram_range: (1, 1)\n",
      "Accuracy: 0.9748917748917749\n",
      "Confusion Matrix:\n",
      "[[756   7]\n",
      " [ 22 370]]\n",
      "Classification Report:\n",
      "              precision    recall  f1-score   support\n",
      "\n",
      "           0       0.97      0.99      0.98       763\n",
      "           1       0.98      0.94      0.96       392\n",
      "\n",
      "    accuracy                           0.97      1155\n",
      "   macro avg       0.98      0.97      0.97      1155\n",
      "weighted avg       0.98      0.97      0.97      1155\n",
      "\n"
     ]
    }
   ],
   "source": [
    "import pandas as pd\n",
    "from sklearn.feature_extraction.text import TfidfVectorizer\n",
    "from sklearn.model_selection import train_test_split, GridSearchCV\n",
    "from sklearn.linear_model import LogisticRegression\n",
    "from sklearn.ensemble import RandomForestClassifier\n",
    "from sklearn.svm import SVC\n",
    "from sklearn.pipeline import Pipeline\n",
    "from sklearn.metrics import accuracy_score,classification_report, confusion_matrix\n",
    "\n",
    "# Load the datasets\n",
    "trainData = pd.read_csv('/content/trainData.csv').dropna(subset=['Body'])\n",
    "testData = pd.read_csv('/content/testData.csv').dropna(subset=['Body'])\n",
    "valData = pd.read_csv('/content/validationData.csv').dropna(subset=['Body'])\n",
    "\n",
    "# Setup the data\n",
    "X_train = trainData['Body']\n",
    "y_train = trainData['label']\n",
    "X_test = testData['Body']\n",
    "y_test = testData['label']\n",
    "X_val = valData['Body']\n",
    "y_val = valData['label']\n",
    "\n",
    "# Define a pipeline combining a text feature extractor with a simple classifier\n",
    "pipeline = Pipeline([\n",
    "    ('tfidf', TfidfVectorizer()),\n",
    "    ('clf', LogisticRegression(random_state=42)),\n",
    "])\n",
    "\n",
    "# Parameters to tune\n",
    "parameters = {\n",
    "    'tfidf__max_df': (0.75, 0.85),\n",
    "    'tfidf__ngram_range': [(1, 1), (1, 2)],  # unigrams or bigrams\n",
    "    'clf__C': [0.1, 1, 10],\n",
    "}\n",
    "\n",
    "# Using GridSearchCV to find the best parameters on the validation set\n",
    "grid_search = GridSearchCV(pipeline, parameters, cv=5, n_jobs=-1, verbose=1)\n",
    "grid_search.fit(X_val, y_val)\n",
    "\n",
    "# Print best score and parameters\n",
    "print(\"Best score: %0.3f\" % grid_search.best_score_)\n",
    "print(\"Best parameters set:\")\n",
    "best_parameters = grid_search.best_estimator_.get_params()\n",
    "for param_name in sorted(parameters.keys()):\n",
    "    print(\"\\t%s: %r\" % (param_name, best_parameters[param_name]))\n",
    "\n",
    "# Use the best parameters to re-train the final model\n",
    "pipeline.set_params(**best_parameters)\n",
    "pipeline.fit(X_train, y_train)\n",
    "\n",
    "# Evaluate the model on the test data\n",
    "predictions = pipeline.predict(X_test)\n",
    "print(\"Accuracy:\", accuracy_score(y_test, predictions))\n",
    "print(\"Confusion Matrix:\")\n",
    "print(confusion_matrix(y_test, predictions))\n",
    "print(\"Classification Report:\")\n",
    "print(classification_report(y_test, predictions))\n"
   ]
  },
  {
   "cell_type": "code",
   "execution_count": 5,
   "metadata": {
    "colab": {
     "base_uri": "https://localhost:8080/"
    },
    "id": "ttcRBokclTzI",
    "outputId": "939c181a-5220-4658-eaa7-1641dbe6c7dd"
   },
   "outputs": [
    {
     "name": "stdout",
     "output_type": "stream",
     "text": [
      "Fitting 5 folds for each of 24 candidates, totalling 120 fits\n",
      "Best score (Random Forest): 0.950\n",
      "Best parameters set (Random Forest):\n",
      "\tclf__max_depth: None\n",
      "\tclf__n_estimators: 300\n",
      "\ttfidf__max_df: 0.75\n",
      "\ttfidf__ngram_range: (1, 1)\n",
      "Accuracy (Random Forest): 0.9679653679653679\n",
      "Confusion Matrix (Random Forest):\n",
      "[[759   4]\n",
      " [ 33 359]]\n",
      "Classification Report (Random Forest):\n",
      "              precision    recall  f1-score   support\n",
      "\n",
      "           0       0.96      0.99      0.98       763\n",
      "           1       0.99      0.92      0.95       392\n",
      "\n",
      "    accuracy                           0.97      1155\n",
      "   macro avg       0.97      0.96      0.96      1155\n",
      "weighted avg       0.97      0.97      0.97      1155\n",
      "\n"
     ]
    }
   ],
   "source": [
    "pipeline_rf = Pipeline([\n",
    "    ('tfidf', TfidfVectorizer()),\n",
    "    ('clf', RandomForestClassifier(random_state=42)),\n",
    "])\n",
    "\n",
    "# Parameters to tune\n",
    "parameters_rf = {\n",
    "    'tfidf__max_df': (0.75, 0.85),\n",
    "    'tfidf__ngram_range': [(1, 1), (1, 2)],  # unigrams or bigrams\n",
    "    'clf__n_estimators': [100, 300],\n",
    "    'clf__max_depth': [10, 20, None]\n",
    "}\n",
    "\n",
    "# Using GridSearchCV to find the best parameters on the validation set\n",
    "grid_search_rf = GridSearchCV(pipeline_rf, parameters_rf, cv=5, n_jobs=-1, verbose=1)\n",
    "grid_search_rf.fit(X_val, y_val)\n",
    "\n",
    "# Print best score and parameters\n",
    "print(\"Best score (Random Forest): %0.3f\" % grid_search_rf.best_score_)\n",
    "print(\"Best parameters set (Random Forest):\")\n",
    "best_parameters_rf = grid_search_rf.best_estimator_.get_params()\n",
    "for param_name in sorted(parameters_rf.keys()):\n",
    "    print(\"\\t%s: %r\" % (param_name, best_parameters_rf[param_name]))\n",
    "\n",
    "# Use the best parameters to re-train the final model\n",
    "pipeline_rf.set_params(**best_parameters_rf)\n",
    "pipeline_rf.fit(X_train, y_train)\n",
    "\n",
    "# Evaluate the model on the test data\n",
    "predictions_rf = pipeline_rf.predict(X_test)\n",
    "print(\"Accuracy (Random Forest):\", accuracy_score(y_test, predictions_rf))\n",
    "print(\"Confusion Matrix (Random Forest):\")\n",
    "print(confusion_matrix(y_test, predictions_rf))\n",
    "print(\"Classification Report (Random Forest):\")\n",
    "print(classification_report(y_test, predictions_rf))"
   ]
  },
  {
   "cell_type": "code",
   "execution_count": 6,
   "metadata": {
    "colab": {
     "base_uri": "https://localhost:8080/"
    },
    "id": "zeQGbYGOlk0W",
    "outputId": "6496f46e-a071-48d7-b969-2dc9949fcfd1"
   },
   "outputs": [
    {
     "name": "stdout",
     "output_type": "stream",
     "text": [
      "Fitting 5 folds for each of 24 candidates, totalling 120 fits\n",
      "Best score (SVM): 0.969\n",
      "Best parameters set (SVM):\n",
      "\tclf__C: 10\n",
      "\tclf__kernel: 'linear'\n",
      "\ttfidf__max_df: 0.75\n",
      "\ttfidf__ngram_range: (1, 1)\n",
      "Accuracy (SVM): 0.9748917748917749\n",
      "Confusion Matrix (SVM):\n",
      "[[753  10]\n",
      " [ 19 373]]\n",
      "Classification Report (SVM):\n",
      "              precision    recall  f1-score   support\n",
      "\n",
      "           0       0.98      0.99      0.98       763\n",
      "           1       0.97      0.95      0.96       392\n",
      "\n",
      "    accuracy                           0.97      1155\n",
      "   macro avg       0.97      0.97      0.97      1155\n",
      "weighted avg       0.97      0.97      0.97      1155\n",
      "\n"
     ]
    }
   ],
   "source": [
    "# Define a pipeline combining a text feature extractor with an SVM classifier\n",
    "pipeline_svm = Pipeline([\n",
    "    ('tfidf', TfidfVectorizer()),\n",
    "    ('clf', SVC(random_state=42)),\n",
    "])\n",
    "\n",
    "# Parameters to tune\n",
    "parameters_svm = {\n",
    "    'tfidf__max_df': (0.75, 0.85),\n",
    "    'tfidf__ngram_range': [(1, 1), (1, 2)],  # unigrams or bigrams\n",
    "    'clf__C': [0.1, 1, 10],\n",
    "    'clf__kernel': ['linear', 'rbf']\n",
    "}\n",
    "\n",
    "# Using GridSearchCV to find the best parameters on the validation set\n",
    "grid_search_svm = GridSearchCV(pipeline_svm, parameters_svm, cv=5, n_jobs=-1, verbose=1)\n",
    "grid_search_svm.fit(X_val, y_val)\n",
    "\n",
    "# Print best score and parameters\n",
    "print(\"Best score (SVM): %0.3f\" % grid_search_svm.best_score_)\n",
    "print(\"Best parameters set (SVM):\")\n",
    "best_parameters_svm = grid_search_svm.best_estimator_.get_params()\n",
    "for param_name in sorted(parameters_svm.keys()):\n",
    "    print(\"\\t%s: %r\" % (param_name, best_parameters_svm[param_name]))\n",
    "\n",
    "# Use the best parameters to re-train the final model\n",
    "pipeline_svm.set_params(**best_parameters_svm)\n",
    "pipeline_svm.fit(X_train, y_train)\n",
    "\n",
    "# Evaluate the model on the test data\n",
    "predictions_svm = pipeline_svm.predict(X_test)\n",
    "print(\"Accuracy (SVM):\", accuracy_score(y_test, predictions_svm))\n",
    "print(\"Confusion Matrix (SVM):\")\n",
    "print(confusion_matrix(y_test, predictions_svm))\n",
    "print(\"Classification Report (SVM):\")\n",
    "print(classification_report(y_test, predictions_svm))"
   ]
  }
 ],
 "metadata": {
  "colab": {
   "provenance": []
  },
  "kernelspec": {
   "display_name": "Python 3 (ipykernel)",
   "language": "python",
   "name": "python3"
  },
  "language_info": {
   "codemirror_mode": {
    "name": "ipython",
    "version": 3
   },
   "file_extension": ".py",
   "mimetype": "text/x-python",
   "name": "python",
   "nbconvert_exporter": "python",
   "pygments_lexer": "ipython3",
   "version": "3.12.3"
  }
 },
 "nbformat": 4,
 "nbformat_minor": 4
}
