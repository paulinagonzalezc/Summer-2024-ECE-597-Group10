{
 "cells": [
  {
   "cell_type": "markdown",
   "id": "39b81239-98f1-40fd-8b56-68af31e72fbd",
   "metadata": {},
   "source": [
    "# Logistic Regression\n",
    "\n",
    "Logistic regression is a statistical method used for binary classification. The goal is to predict the probability that a given input belongs to one of two classes (e.g. 0 or 1).\n",
    "\n",
    "## How does Logistic Regression work?\n",
    "\n",
    "1. Linear combination of inputs is calculated\n",
    "2. The linear combination of inputs is passed through a sigmoid function to map the result to a value between 0 and 1\n",
    "3. To make a classfication, a threshold is set, if larger than threshold it is 1, if less it is 0\n",
    "4. Training the model\n",
    "5. Optimization\n",
    "\n",
    "## Advantages vs Disadvantages\n",
    "\n",
    "**Advantages**\n",
    "1. Simple\n",
    "2. Efficient (less computer resources used)\n",
    "3. Easy to interpret\n",
    "\n",
    "**Disadvantages**\n",
    "\n",
    "1. Poor performance when large sets of features\n",
    "2. Outliers can potentially impact the decision threshold\n",
    "\n",
    "\n",
    "References:\n",
    "\n",
    "https://www.ahajournals.org/doi/full/10.1161/CIRCULATIONAHA.106.682658\n",
    "\n",
    "https://ceur-ws.org/Vol-2124/paper_12.pdf\n",
    "\n",
    "https://link.springer.com/book/10.1007/978-1-4419-1742-3\n",
    "\n"
   ]
  },
  {
   "cell_type": "markdown",
   "id": "83d86a46-0198-47f0-8d87-ff385fcf294c",
   "metadata": {},
   "source": [
    "# Data Preprocessing"
   ]
  },
  {
   "cell_type": "code",
   "execution_count": 5,
   "id": "f3180a86-7bd7-46dc-9ef8-f0dac7a5ba64",
   "metadata": {
    "colab": {
     "base_uri": "https://localhost:8080/"
    },
    "id": "zPeY6QvueoH3",
    "outputId": "a91c7dd5-55b1-472a-a4a0-6efb249016cc"
   },
   "outputs": [
    {
     "name": "stdout",
     "output_type": "stream",
     "text": [
      "                                             Subject  \\\n",
      "0  review your shipment details  shipment notific...   \n",
      "1                            υоur ассоunt іѕ оn hоld   \n",
      "2  completed invoice  kz89tys2564 frombestbuycom ...   \n",
      "3                              uvic important notice   \n",
      "4             you have 6 suspended incoming messages   \n",
      "\n",
      "                                                Body  \n",
      "0  notice this message was sent from outside the ...  \n",
      "1  votre réponse a bien été prise en compte\\r\\nht...  \n",
      "2  notice this message was sent from outside the ...  \n",
      "3  your uvic account has been filed under the lis...  \n",
      "4  message generated from  uvicca source\\r\\n\\r\\n\\...  \n"
     ]
    },
    {
     "name": "stderr",
     "output_type": "stream",
     "text": [
      "<>:17: SyntaxWarning: invalid escape sequence '\\w'\n",
      "<>:18: SyntaxWarning: invalid escape sequence '\\w'\n",
      "<>:17: SyntaxWarning: invalid escape sequence '\\w'\n",
      "<>:18: SyntaxWarning: invalid escape sequence '\\w'\n",
      "C:\\Users\\Windows\\AppData\\Local\\Temp\\ipykernel_14812\\3977820290.py:17: SyntaxWarning: invalid escape sequence '\\w'\n",
      "  uvicData_cleaned['Subject'] = uvicData_cleaned['Subject'].str.lower().str.replace('[^\\w\\s]', '', regex=True).str.strip()\n",
      "C:\\Users\\Windows\\AppData\\Local\\Temp\\ipykernel_14812\\3977820290.py:18: SyntaxWarning: invalid escape sequence '\\w'\n",
      "  uvicData_cleaned['Body'] = uvicData_cleaned['Body'].str.lower().str.replace('[^\\w\\s]', '', regex=True).str.strip()\n"
     ]
    }
   ],
   "source": [
    "import pandas as pd\n",
    "\n",
    "# UVIC Dataset\n",
    "file_path = '../../datasets/CaptstoneProjectData_2024.csv'\n",
    "uvicData = pd.read_csv(file_path)\n",
    "\n",
    "# Remove unnecessary columns\n",
    "uvicData_cleaned = uvicData.drop(columns=['Unnamed: 2', 'Unnamed: 3'], errors='ignore')\n",
    "\n",
    "# Replace empty 'Subject' with space\n",
    "uvicData_cleaned['Subject'] = uvicData_cleaned['Subject'].fillna(' ')\n",
    "\n",
    "# Check and remove rows with missing 'Body'\n",
    "data_cleaned = uvicData_cleaned.dropna(subset=['Body'])\n",
    "\n",
    "# Normalize text: convert to lowercase, remove special characters, and trim whitespaces\n",
    "uvicData_cleaned['Subject'] = uvicData_cleaned['Subject'].str.lower().str.replace('[^\\w\\s]', '', regex=True).str.strip()\n",
    "uvicData_cleaned['Body'] = uvicData_cleaned['Body'].str.lower().str.replace('[^\\w\\s]', '', regex=True).str.strip()\n",
    "\n",
    "# Confirm cleaning\n",
    "print(uvicData_cleaned.head())"
   ]
  },
  {
   "cell_type": "code",
   "execution_count": 6,
   "id": "c2aed006-d752-4632-938e-262543116560",
   "metadata": {
    "colab": {
     "base_uri": "https://localhost:8080/"
    },
    "id": "pXWZaE9EfB0J",
    "outputId": "774feb39-54f1-4274-e525-2b34c1b79483"
   },
   "outputs": [
    {
     "name": "stdout",
     "output_type": "stream",
     "text": [
      "<class 'pandas.core.frame.DataFrame'>\n",
      "RangeIndex: 517401 entries, 0 to 517400\n",
      "Data columns (total 2 columns):\n",
      " #   Column   Non-Null Count   Dtype \n",
      "---  ------   --------------   ----- \n",
      " 0   file     517401 non-null  object\n",
      " 1   message  517401 non-null  object\n",
      "dtypes: object(2)\n",
      "memory usage: 7.9+ MB\n"
     ]
    }
   ],
   "source": [
    "# Load the normal emails dataset\n",
    "file_path = '../../datasets/emails.csv'\n",
    "\n",
    "normData = pd.read_csv(file_path)\n",
    "normData.info()"
   ]
  },
  {
   "cell_type": "code",
   "execution_count": 7,
   "id": "990fd44b-e7fa-4747-84c1-695d0556f4d6",
   "metadata": {
    "colab": {
     "base_uri": "https://localhost:8080/",
     "height": 206
    },
    "id": "yCqq-uubr0g0",
    "outputId": "1a5a13a7-889c-4ab8-bd8c-99d66da3ec65"
   },
   "outputs": [
    {
     "data": {
      "text/html": [
       "<div>\n",
       "<style scoped>\n",
       "    .dataframe tbody tr th:only-of-type {\n",
       "        vertical-align: middle;\n",
       "    }\n",
       "\n",
       "    .dataframe tbody tr th {\n",
       "        vertical-align: top;\n",
       "    }\n",
       "\n",
       "    .dataframe thead th {\n",
       "        text-align: right;\n",
       "    }\n",
       "</style>\n",
       "<table border=\"1\" class=\"dataframe\">\n",
       "  <thead>\n",
       "    <tr style=\"text-align: right;\">\n",
       "      <th></th>\n",
       "      <th>file</th>\n",
       "      <th>message</th>\n",
       "    </tr>\n",
       "  </thead>\n",
       "  <tbody>\n",
       "    <tr>\n",
       "      <th>0</th>\n",
       "      <td>allen-p/_sent_mail/1.</td>\n",
       "      <td>Message-ID: &lt;18782981.1075855378110.JavaMail.e...</td>\n",
       "    </tr>\n",
       "    <tr>\n",
       "      <th>1</th>\n",
       "      <td>allen-p/_sent_mail/10.</td>\n",
       "      <td>Message-ID: &lt;15464986.1075855378456.JavaMail.e...</td>\n",
       "    </tr>\n",
       "    <tr>\n",
       "      <th>2</th>\n",
       "      <td>allen-p/_sent_mail/100.</td>\n",
       "      <td>Message-ID: &lt;24216240.1075855687451.JavaMail.e...</td>\n",
       "    </tr>\n",
       "    <tr>\n",
       "      <th>3</th>\n",
       "      <td>allen-p/_sent_mail/1000.</td>\n",
       "      <td>Message-ID: &lt;13505866.1075863688222.JavaMail.e...</td>\n",
       "    </tr>\n",
       "    <tr>\n",
       "      <th>4</th>\n",
       "      <td>allen-p/_sent_mail/1001.</td>\n",
       "      <td>Message-ID: &lt;30922949.1075863688243.JavaMail.e...</td>\n",
       "    </tr>\n",
       "  </tbody>\n",
       "</table>\n",
       "</div>"
      ],
      "text/plain": [
       "                       file                                            message\n",
       "0     allen-p/_sent_mail/1.  Message-ID: <18782981.1075855378110.JavaMail.e...\n",
       "1    allen-p/_sent_mail/10.  Message-ID: <15464986.1075855378456.JavaMail.e...\n",
       "2   allen-p/_sent_mail/100.  Message-ID: <24216240.1075855687451.JavaMail.e...\n",
       "3  allen-p/_sent_mail/1000.  Message-ID: <13505866.1075863688222.JavaMail.e...\n",
       "4  allen-p/_sent_mail/1001.  Message-ID: <30922949.1075863688243.JavaMail.e..."
      ]
     },
     "execution_count": 7,
     "metadata": {},
     "output_type": "execute_result"
    }
   ],
   "source": [
    "normData.head()"
   ]
  },
  {
   "cell_type": "code",
   "execution_count": 8,
   "id": "6abdde82-6942-4e2a-b7ad-a6acbea2b10e",
   "metadata": {
    "colab": {
     "base_uri": "https://localhost:8080/",
     "height": 206
    },
    "id": "mA4lQX2y02KD",
    "outputId": "5a668e82-15b3-4307-9afd-406917c752ce"
   },
   "outputs": [
    {
     "data": {
      "text/html": [
       "<div>\n",
       "<style scoped>\n",
       "    .dataframe tbody tr th:only-of-type {\n",
       "        vertical-align: middle;\n",
       "    }\n",
       "\n",
       "    .dataframe tbody tr th {\n",
       "        vertical-align: top;\n",
       "    }\n",
       "\n",
       "    .dataframe thead th {\n",
       "        text-align: right;\n",
       "    }\n",
       "</style>\n",
       "<table border=\"1\" class=\"dataframe\">\n",
       "  <thead>\n",
       "    <tr style=\"text-align: right;\">\n",
       "      <th></th>\n",
       "      <th>file</th>\n",
       "      <th>message</th>\n",
       "      <th>Subject</th>\n",
       "      <th>Body</th>\n",
       "    </tr>\n",
       "  </thead>\n",
       "  <tbody>\n",
       "    <tr>\n",
       "      <th>0</th>\n",
       "      <td>allen-p/_sent_mail/1.</td>\n",
       "      <td>Message-ID: &lt;18782981.1075855378110.JavaMail.e...</td>\n",
       "      <td></td>\n",
       "      <td>Here is our forecast\\n\\n</td>\n",
       "    </tr>\n",
       "    <tr>\n",
       "      <th>1</th>\n",
       "      <td>allen-p/_sent_mail/10.</td>\n",
       "      <td>Message-ID: &lt;15464986.1075855378456.JavaMail.e...</td>\n",
       "      <td>Re:</td>\n",
       "      <td>Traveling to have a business meeting takes the...</td>\n",
       "    </tr>\n",
       "    <tr>\n",
       "      <th>2</th>\n",
       "      <td>allen-p/_sent_mail/100.</td>\n",
       "      <td>Message-ID: &lt;24216240.1075855687451.JavaMail.e...</td>\n",
       "      <td>Re: test</td>\n",
       "      <td>test successful.  way to go!!!</td>\n",
       "    </tr>\n",
       "    <tr>\n",
       "      <th>3</th>\n",
       "      <td>allen-p/_sent_mail/1000.</td>\n",
       "      <td>Message-ID: &lt;13505866.1075863688222.JavaMail.e...</td>\n",
       "      <td></td>\n",
       "      <td>Randy,\\n\\n Can you send me a schedule of the s...</td>\n",
       "    </tr>\n",
       "    <tr>\n",
       "      <th>4</th>\n",
       "      <td>allen-p/_sent_mail/1001.</td>\n",
       "      <td>Message-ID: &lt;30922949.1075863688243.JavaMail.e...</td>\n",
       "      <td>Re: Hello</td>\n",
       "      <td>Let's shoot for Tuesday at 11:45.</td>\n",
       "    </tr>\n",
       "  </tbody>\n",
       "</table>\n",
       "</div>"
      ],
      "text/plain": [
       "                       file  \\\n",
       "0     allen-p/_sent_mail/1.   \n",
       "1    allen-p/_sent_mail/10.   \n",
       "2   allen-p/_sent_mail/100.   \n",
       "3  allen-p/_sent_mail/1000.   \n",
       "4  allen-p/_sent_mail/1001.   \n",
       "\n",
       "                                             message    Subject  \\\n",
       "0  Message-ID: <18782981.1075855378110.JavaMail.e...              \n",
       "1  Message-ID: <15464986.1075855378456.JavaMail.e...        Re:   \n",
       "2  Message-ID: <24216240.1075855687451.JavaMail.e...   Re: test   \n",
       "3  Message-ID: <13505866.1075863688222.JavaMail.e...              \n",
       "4  Message-ID: <30922949.1075863688243.JavaMail.e...  Re: Hello   \n",
       "\n",
       "                                                Body  \n",
       "0                          Here is our forecast\\n\\n   \n",
       "1  Traveling to have a business meeting takes the...  \n",
       "2                     test successful.  way to go!!!  \n",
       "3  Randy,\\n\\n Can you send me a schedule of the s...  \n",
       "4                Let's shoot for Tuesday at 11:45.    "
      ]
     },
     "execution_count": 8,
     "metadata": {},
     "output_type": "execute_result"
    }
   ],
   "source": [
    "def parse_email(message):\n",
    "    lines = message.split('\\n')\n",
    "    subject = next((line.split(\": \", 1)[1] for line in lines if line.lower().startswith('subject: ')), \"\")\n",
    "    body_start = next(i for i, line in enumerate(lines) if line.strip() == '') + 1\n",
    "    body = \"\\n\".join(lines[body_start:])\n",
    "    return subject, body\n",
    "\n",
    "# Apply the function to the 'message' column\n",
    "normData[['Subject', 'Body']] = normData['message'].apply(lambda x: pd.Series(parse_email(x)))\n",
    "normData.head()"
   ]
  },
  {
   "cell_type": "code",
   "execution_count": 9,
   "id": "01ac716d-389f-4a24-9d1f-d1d4d33143c6",
   "metadata": {
    "colab": {
     "base_uri": "https://localhost:8080/",
     "height": 206
    },
    "id": "n5NJX7mx7K7r",
    "outputId": "9e16499b-74d7-49de-f3fc-bd2fc6933bc3"
   },
   "outputs": [
    {
     "name": "stderr",
     "output_type": "stream",
     "text": [
      "<>:5: SyntaxWarning: invalid escape sequence '\\w'\n",
      "<>:6: SyntaxWarning: invalid escape sequence '\\w'\n",
      "<>:5: SyntaxWarning: invalid escape sequence '\\w'\n",
      "<>:6: SyntaxWarning: invalid escape sequence '\\w'\n",
      "C:\\Users\\Windows\\AppData\\Local\\Temp\\ipykernel_14812\\727743717.py:5: SyntaxWarning: invalid escape sequence '\\w'\n",
      "  normData['Subject'] = normData['Subject'].str.lower().str.replace('[^\\w\\s]', '', regex=True).str.strip()\n",
      "C:\\Users\\Windows\\AppData\\Local\\Temp\\ipykernel_14812\\727743717.py:6: SyntaxWarning: invalid escape sequence '\\w'\n",
      "  normData['Body'] = normData['Body'].str.lower().str.replace('[^\\w\\s]', '', regex=True).str.strip()\n"
     ]
    },
    {
     "data": {
      "text/html": [
       "<div>\n",
       "<style scoped>\n",
       "    .dataframe tbody tr th:only-of-type {\n",
       "        vertical-align: middle;\n",
       "    }\n",
       "\n",
       "    .dataframe tbody tr th {\n",
       "        vertical-align: top;\n",
       "    }\n",
       "\n",
       "    .dataframe thead th {\n",
       "        text-align: right;\n",
       "    }\n",
       "</style>\n",
       "<table border=\"1\" class=\"dataframe\">\n",
       "  <thead>\n",
       "    <tr style=\"text-align: right;\">\n",
       "      <th></th>\n",
       "      <th>Subject</th>\n",
       "      <th>Body</th>\n",
       "    </tr>\n",
       "  </thead>\n",
       "  <tbody>\n",
       "    <tr>\n",
       "      <th>0</th>\n",
       "      <td></td>\n",
       "      <td>here is our forecast</td>\n",
       "    </tr>\n",
       "    <tr>\n",
       "      <th>1</th>\n",
       "      <td>re</td>\n",
       "      <td>traveling to have a business meeting takes the...</td>\n",
       "    </tr>\n",
       "    <tr>\n",
       "      <th>2</th>\n",
       "      <td>re test</td>\n",
       "      <td>test successful  way to go</td>\n",
       "    </tr>\n",
       "    <tr>\n",
       "      <th>3</th>\n",
       "      <td></td>\n",
       "      <td>randy\\n\\n can you send me a schedule of the sa...</td>\n",
       "    </tr>\n",
       "    <tr>\n",
       "      <th>4</th>\n",
       "      <td>re hello</td>\n",
       "      <td>lets shoot for tuesday at 1145</td>\n",
       "    </tr>\n",
       "  </tbody>\n",
       "</table>\n",
       "</div>"
      ],
      "text/plain": [
       "    Subject                                               Body\n",
       "0                                         here is our forecast\n",
       "1        re  traveling to have a business meeting takes the...\n",
       "2   re test                         test successful  way to go\n",
       "3            randy\\n\\n can you send me a schedule of the sa...\n",
       "4  re hello                     lets shoot for tuesday at 1145"
      ]
     },
     "execution_count": 9,
     "metadata": {},
     "output_type": "execute_result"
    }
   ],
   "source": [
    "normData['Subject'] = normData['Subject'].fillna(' ')\n",
    "normData = normData.dropna(subset=['Body'])\n",
    "normData = normData.drop(columns=['file', 'message'], errors='ignore')\n",
    "# Normalize text: convert to lowercase, remove special characters, and trim whitespaces\n",
    "normData['Subject'] = normData['Subject'].str.lower().str.replace('[^\\w\\s]', '', regex=True).str.strip()\n",
    "normData['Body'] = normData['Body'].str.lower().str.replace('[^\\w\\s]', '', regex=True).str.strip()\n",
    "\n",
    "# Showing the updated DataFrame with subject and body columns\n",
    "normData.head()"
   ]
  },
  {
   "cell_type": "code",
   "execution_count": 10,
   "id": "019bb018-18a3-44ca-9abf-10e006e99bf8",
   "metadata": {
    "colab": {
     "base_uri": "https://localhost:8080/",
     "height": 206
    },
    "id": "Ml1n73dd83Bt",
    "outputId": "053fd554-6856-429e-f49d-a5ce2f0720b4"
   },
   "outputs": [
    {
     "data": {
      "text/html": [
       "<div>\n",
       "<style scoped>\n",
       "    .dataframe tbody tr th:only-of-type {\n",
       "        vertical-align: middle;\n",
       "    }\n",
       "\n",
       "    .dataframe tbody tr th {\n",
       "        vertical-align: top;\n",
       "    }\n",
       "\n",
       "    .dataframe thead th {\n",
       "        text-align: right;\n",
       "    }\n",
       "</style>\n",
       "<table border=\"1\" class=\"dataframe\">\n",
       "  <thead>\n",
       "    <tr style=\"text-align: right;\">\n",
       "      <th></th>\n",
       "      <th>Subject</th>\n",
       "      <th>Body</th>\n",
       "      <th>label</th>\n",
       "    </tr>\n",
       "  </thead>\n",
       "  <tbody>\n",
       "    <tr>\n",
       "      <th>0</th>\n",
       "      <td>review your shipment details  shipment notific...</td>\n",
       "      <td>notice this message was sent from outside the ...</td>\n",
       "      <td>1</td>\n",
       "    </tr>\n",
       "    <tr>\n",
       "      <th>1</th>\n",
       "      <td>υоur ассоunt іѕ оn hоld</td>\n",
       "      <td>votre réponse a bien été prise en compte\\r\\nht...</td>\n",
       "      <td>1</td>\n",
       "    </tr>\n",
       "    <tr>\n",
       "      <th>2</th>\n",
       "      <td>completed invoice  kz89tys2564 frombestbuycom ...</td>\n",
       "      <td>notice this message was sent from outside the ...</td>\n",
       "      <td>1</td>\n",
       "    </tr>\n",
       "    <tr>\n",
       "      <th>3</th>\n",
       "      <td>uvic important notice</td>\n",
       "      <td>your uvic account has been filed under the lis...</td>\n",
       "      <td>1</td>\n",
       "    </tr>\n",
       "    <tr>\n",
       "      <th>4</th>\n",
       "      <td>you have 6 suspended incoming messages</td>\n",
       "      <td>message generated from  uvicca source\\r\\n\\r\\n\\...</td>\n",
       "      <td>1</td>\n",
       "    </tr>\n",
       "  </tbody>\n",
       "</table>\n",
       "</div>"
      ],
      "text/plain": [
       "                                             Subject  \\\n",
       "0  review your shipment details  shipment notific...   \n",
       "1                            υоur ассоunt іѕ оn hоld   \n",
       "2  completed invoice  kz89tys2564 frombestbuycom ...   \n",
       "3                              uvic important notice   \n",
       "4             you have 6 suspended incoming messages   \n",
       "\n",
       "                                                Body  label  \n",
       "0  notice this message was sent from outside the ...      1  \n",
       "1  votre réponse a bien été prise en compte\\r\\nht...      1  \n",
       "2  notice this message was sent from outside the ...      1  \n",
       "3  your uvic account has been filed under the lis...      1  \n",
       "4  message generated from  uvicca source\\r\\n\\r\\n\\...      1  "
      ]
     },
     "execution_count": 10,
     "metadata": {},
     "output_type": "execute_result"
    }
   ],
   "source": [
    "uvicData_cleaned['label'] = 1\n",
    "normData['label'] = 0\n",
    "\n",
    "masterData = pd.concat([uvicData_cleaned, normData], ignore_index=True)\n",
    "masterData.head()"
   ]
  },
  {
   "cell_type": "code",
   "execution_count": 11,
   "id": "ad4c8bad-f6f8-4244-82e1-202628b0e803",
   "metadata": {
    "colab": {
     "base_uri": "https://localhost:8080/"
    },
    "id": "--FIsReZBH6Y",
    "outputId": "e01bb5bb-ae1f-4adb-dbd8-5ea0a2044408"
   },
   "outputs": [
    {
     "data": {
      "text/plain": [
       "1"
      ]
     },
     "execution_count": 11,
     "metadata": {},
     "output_type": "execute_result"
    }
   ],
   "source": [
    "masterData['label'][232]"
   ]
  },
  {
   "cell_type": "code",
   "execution_count": 12,
   "id": "8d245dfa-dfad-4cfc-805c-7c8ff241f66f",
   "metadata": {
    "colab": {
     "base_uri": "https://localhost:8080/",
     "height": 206
    },
    "id": "ElK9mQnbAidY",
    "outputId": "87ae37fe-7fd9-46b5-f45f-b5beff6e1b9e"
   },
   "outputs": [
    {
     "data": {
      "text/html": [
       "<div>\n",
       "<style scoped>\n",
       "    .dataframe tbody tr th:only-of-type {\n",
       "        vertical-align: middle;\n",
       "    }\n",
       "\n",
       "    .dataframe tbody tr th {\n",
       "        vertical-align: top;\n",
       "    }\n",
       "\n",
       "    .dataframe thead th {\n",
       "        text-align: right;\n",
       "    }\n",
       "</style>\n",
       "<table border=\"1\" class=\"dataframe\">\n",
       "  <thead>\n",
       "    <tr style=\"text-align: right;\">\n",
       "      <th></th>\n",
       "      <th>Subject</th>\n",
       "      <th>Body</th>\n",
       "      <th>label</th>\n",
       "      <th>Body_Length</th>\n",
       "    </tr>\n",
       "  </thead>\n",
       "  <tbody>\n",
       "    <tr>\n",
       "      <th>0</th>\n",
       "      <td>review your shipment details  shipment notific...</td>\n",
       "      <td>notice this message was sent from outside the ...</td>\n",
       "      <td>1</td>\n",
       "      <td>890</td>\n",
       "    </tr>\n",
       "    <tr>\n",
       "      <th>1</th>\n",
       "      <td>υоur ассоunt іѕ оn hоld</td>\n",
       "      <td>votre réponse a bien été prise en compte\\r\\nht...</td>\n",
       "      <td>1</td>\n",
       "      <td>1235</td>\n",
       "    </tr>\n",
       "    <tr>\n",
       "      <th>2</th>\n",
       "      <td>completed invoice  kz89tys2564 frombestbuycom ...</td>\n",
       "      <td>notice this message was sent from outside the ...</td>\n",
       "      <td>1</td>\n",
       "      <td>3024</td>\n",
       "    </tr>\n",
       "    <tr>\n",
       "      <th>3</th>\n",
       "      <td>uvic important notice</td>\n",
       "      <td>your uvic account has been filed under the lis...</td>\n",
       "      <td>1</td>\n",
       "      <td>528</td>\n",
       "    </tr>\n",
       "    <tr>\n",
       "      <th>4</th>\n",
       "      <td>you have 6 suspended incoming messages</td>\n",
       "      <td>message generated from  uvicca source\\r\\n\\r\\n\\...</td>\n",
       "      <td>1</td>\n",
       "      <td>1234</td>\n",
       "    </tr>\n",
       "  </tbody>\n",
       "</table>\n",
       "</div>"
      ],
      "text/plain": [
       "                                             Subject  \\\n",
       "0  review your shipment details  shipment notific...   \n",
       "1                            υоur ассоunt іѕ оn hоld   \n",
       "2  completed invoice  kz89tys2564 frombestbuycom ...   \n",
       "3                              uvic important notice   \n",
       "4             you have 6 suspended incoming messages   \n",
       "\n",
       "                                                Body  label Body_Length  \n",
       "0  notice this message was sent from outside the ...      1         890  \n",
       "1  votre réponse a bien été prise en compte\\r\\nht...      1        1235  \n",
       "2  notice this message was sent from outside the ...      1        3024  \n",
       "3  your uvic account has been filed under the lis...      1         528  \n",
       "4  message generated from  uvicca source\\r\\n\\r\\n\\...      1        1234  "
      ]
     },
     "execution_count": 12,
     "metadata": {},
     "output_type": "execute_result"
    }
   ],
   "source": [
    "# Feature Engineering: Length of the email body\n",
    "\n",
    "def add_body_length(df):\n",
    "\n",
    "    df['Body_Length'] = df['Body'].apply(lambda x: len(x) if isinstance(x, str) else pd.NA)\n",
    "    return df\n",
    "\n",
    "masterData = add_body_length(masterData.copy())\n",
    "masterData.head()"
   ]
  },
  {
   "cell_type": "code",
   "execution_count": null,
   "id": "d3fa03c3-a890-4150-a8ab-b8206858d293",
   "metadata": {},
   "outputs": [],
   "source": [
    "# save final csv\n",
    "masterData.to_csv('capstone_dataset_final.csv', index=False)  # Change index=False if you want to keep the index\n",
    "\n",
    "# create a download link in jupyter\n",
    "from IPython.display import FileLink\n",
    "FileLink(r'capstone_dataset_final.csv')"
   ]
  },
  {
   "cell_type": "markdown",
   "id": "6f3a4ce8-36a3-47fc-aafe-9a495bae0d44",
   "metadata": {},
   "source": [
    "# Logistic Regression Code & Results"
   ]
  },
  {
   "cell_type": "code",
   "execution_count": 25,
   "id": "23259dd0-ea9e-4078-99cc-755f8503700d",
   "metadata": {},
   "outputs": [
    {
     "name": "stdout",
     "output_type": "stream",
     "text": [
      "Confusion Matrix:\n",
      "[[51724     3]\n",
      " [   76   195]]\n",
      "\n",
      "AUC Score: 0.9985969484842256\n",
      "Balanced Accuracy Score: 0.8597495993905557\n"
     ]
    }
   ],
   "source": [
    "# importing the appropriate modules\n",
    "import pandas as pd\n",
    "from sklearn.model_selection import train_test_split\n",
    "from sklearn.feature_extraction.text import TfidfVectorizer\n",
    "from sklearn.linear_model import LogisticRegression\n",
    "from sklearn.metrics import roc_auc_score, confusion_matrix, balanced_accuracy_score\n",
    "from sklearn.pipeline import Pipeline\n",
    "\n",
    "# loading the dataset\n",
    "df = masterData\n",
    "\n",
    "# combining the subject and body into a single text feature for better context\n",
    "df['text'] = df['Subject'].fillna('') + \" \" + df['Body'].fillna('')  # Fill NaN with empty string\n",
    "\n",
    "# defining the feature and target variable\n",
    "X = df['text']\n",
    "y = df['label']\n",
    "\n",
    "# splitting the data into training and test sets (sequester 10% of the data for final validation)\n",
    "X_train, X_test, y_train, y_test = train_test_split(X, y, test_size=0.1, random_state=42)\n",
    "\n",
    "# creating a pipeline with TF-IDF Vectorizer and Logistic Regression\n",
    "pipeline = Pipeline([\n",
    "    ('tfidf', TfidfVectorizer(stop_words='english')),\n",
    "    ('classifier', LogisticRegression(random_state=42))\n",
    "])\n",
    "\n",
    "# training the model\n",
    "pipeline.fit(X_train, y_train)\n",
    "\n",
    "# predicting on the test data\n",
    "y_pred = pipeline.predict(X_test)\n",
    "y_pred_prob = pipeline.predict_proba(X_test)[:, 1]\n",
    "\n",
    "# evaluating the model\n",
    "auc = roc_auc_score(y_test, y_pred_prob)\n",
    "cm = confusion_matrix(y_test, y_pred)\n",
    "balanced_acc = balanced_accuracy_score(y_test, y_pred)\n",
    "\n",
    "print(\"Confusion Matrix:\")\n",
    "print(cm)\n",
    "print(\"\\nAUC Score:\", auc)\n",
    "print(\"Balanced Accuracy Score:\", balanced_acc)\n"
   ]
  },
  {
   "cell_type": "markdown",
   "id": "211b6f42",
   "metadata": {},
   "source": [
    "# Logistic Regression Optimization Code & Results"
   ]
  },
  {
   "cell_type": "code",
   "execution_count": null,
   "id": "ab3176ae-32f2-4027-a8ff-2749768588d6",
   "metadata": {},
   "outputs": [],
   "source": [
    "import numpy as np\n",
    "from sklearn.metrics import f1_score, precision_score, recall_score\n",
    "import matplotlib.pyplot as plt\n",
    "\n",
    "# define a range of thresholds\n",
    "thresholds = np.arange(0.0, 1.0, 0.01)\n",
    "\n",
    "# initialize variables to store the best threshold and the best F1 score\n",
    "best_threshold = 0.0\n",
    "best_f1 = 0.0\n",
    "\n",
    "# initialize lists to store metrics for each threshold\n",
    "f1_scores = []\n",
    "precision_scores = []\n",
    "recall_scores = []\n",
    "balanced_acc_scores = []\n",
    "\n",
    "# iterate over thresholds to calculate metrics\n",
    "for threshold in thresholds:\n",
    "    y_pred_custom = (y_pred_prob >= threshold).astype(int)\n",
    "    f1 = f1_score(y_test, y_pred_custom)\n",
    "    precision = precision_score(y_test, y_pred_custom)\n",
    "    recall = recall_score(y_test, y_pred_custom)\n",
    "    balanced_acc = balanced_accuracy_score(y_test, y_pred_custom)\n",
    "\n",
    "    f1_scores.append(f1)\n",
    "    precision_scores.append(precision)\n",
    "    recall_scores.append(recall)\n",
    "    balanced_acc_scores.append(balanced_acc)\n",
    "\n",
    "    if f1 > best_f1:\n",
    "        best_f1 = f1\n",
    "        best_threshold = threshold\n",
    "\n",
    "# evaluate the model with the best threshold\n",
    "y_pred_best = (y_pred_prob >= best_threshold).astype(int)\n",
    "auc = roc_auc_score(y_test, y_pred_prob)\n",
    "cm = confusion_matrix(y_test, y_pred_best)\n",
    "balanced_acc = balanced_accuracy_score(y_test, y_pred_best)\n",
    "\n",
    "print(\"Best Threshold:\", best_threshold)\n",
    "print(\"Confusion Matrix at Best Threshold:\")\n",
    "print(cm)\n",
    "print(\"\\nAUC Score:\", auc)\n",
    "print(\"Balanced Accuracy Score:\", balanced_acc)\n",
    "print(\"Best F1 Score:\", best_f1)\n",
    "\n",
    "# show trend in the figure\n",
    "plt.figure(figsize=(10, 8))\n",
    "\n",
    "plt.plot(thresholds, f1_scores, label='F1 Score', marker='o')\n",
    "plt.plot(thresholds, precision_scores, label='Precision', marker='x')\n",
    "plt.plot(thresholds, recall_scores, label='Recall', marker='s')\n",
    "plt.plot(thresholds, balanced_acc_scores, label='Balanced Accuracy', marker='d')\n",
    "plt.vlines(best_threshold, 0, 1.0, label=\"Best Threshold\")\n",
    "\n",
    "\n",
    "plt.xlabel('Threshold')\n",
    "plt.ylabel('Score')\n",
    "plt.title('Metrics vs. Threshold')\n",
    "plt.legend()\n",
    "plt.grid(True)\n",
    "plt.show()"
   ]
  },
  {
   "cell_type": "markdown",
   "id": "0511f3cc-96de-44ba-ac01-8941727cdb95",
   "metadata": {},
   "source": [
    "# Logistic Regression with new balanced dataset"
   ]
  },
  {
   "cell_type": "code",
   "execution_count": 2,
   "id": "15792e19-b57a-4701-b468-5d64cc9485ae",
   "metadata": {},
   "outputs": [
    {
     "name": "stdout",
     "output_type": "stream",
     "text": [
      "Confusion Matrix:\n",
      "[[519   2]\n",
      " [ 23 228]]\n",
      "\n",
      "AUC Score: 0.9953506511382493\n",
      "Balanced Accuracy Score: 0.9522638811357258\n"
     ]
    }
   ],
   "source": [
    "# importing the appropriate modules\n",
    "import pandas as pd\n",
    "from sklearn.model_selection import train_test_split\n",
    "from sklearn.feature_extraction.text import TfidfVectorizer\n",
    "from sklearn.linear_model import LogisticRegression\n",
    "from sklearn.metrics import roc_auc_score, confusion_matrix, balanced_accuracy_score\n",
    "from sklearn.pipeline import Pipeline\n",
    "\n",
    "# loading the dataset\n",
    "df = pd.read_csv('../Code/masterDataset.csv')\n",
    "df.head()\n",
    "\n",
    "# combining the subject and body into a single text feature for better context\n",
    "df['text'] = df['Subject'].fillna('') + \" \" + df['Body'].fillna('')  # Fill NaN with empty string\n",
    "\n",
    "# defining the feature and target variable\n",
    "X = df['text']\n",
    "y = df['label']\n",
    "\n",
    "# splitting the data into training and test sets (sequester 10% of the data for final validation)\n",
    "X_train, X_test, y_train, y_test = train_test_split(X, y, test_size=0.1, random_state=42)\n",
    "\n",
    "# creating a pipeline with TF-IDF Vectorizer and Logistic Regression\n",
    "pipeline = Pipeline([\n",
    "    ('tfidf', TfidfVectorizer(stop_words='english')),\n",
    "    ('classifier', LogisticRegression(random_state=42))\n",
    "])\n",
    "\n",
    "# training the model\n",
    "pipeline.fit(X_train, y_train)\n",
    "\n",
    "# predicting on the test data\n",
    "y_pred = pipeline.predict(X_test)\n",
    "y_pred_prob = pipeline.predict_proba(X_test)[:, 1]\n",
    "\n",
    "# evaluating the model\n",
    "auc = roc_auc_score(y_test, y_pred_prob)\n",
    "cm = confusion_matrix(y_test, y_pred)\n",
    "balanced_acc = balanced_accuracy_score(y_test, y_pred)\n",
    "\n",
    "print(\"Confusion Matrix:\")\n",
    "print(cm)\n",
    "print(\"\\nAUC Score:\", auc)\n",
    "print(\"Balanced Accuracy Score:\", balanced_acc)\n"
   ]
  },
  {
   "cell_type": "markdown",
   "id": "e7883819-6c07-46cf-b661-b2ffab02d834",
   "metadata": {},
   "source": [
    "# Logistic Regression with balanced dataset & optimization"
   ]
  },
  {
   "cell_type": "code",
   "execution_count": 5,
   "id": "96f2e723-a1c0-42a3-b671-8ee13b34203c",
   "metadata": {},
   "outputs": [
    {
     "name": "stdout",
     "output_type": "stream",
     "text": [
      "Best Threshold: 0.41000000000000003\n",
      "Confusion Matrix at Best Threshold:\n",
      "[[517   4]\n",
      " [ 19 232]]\n",
      "\n",
      "AUC Score: 0.9953506511382493\n",
      "Balanced Accuracy Score: 0.9583126228292205\n",
      "Best F1 Score: 0.9527720739219713\n"
     ]
    },
    {
     "data": {
      "image/png": "[encoded data removed]",
      "text/plain": [
       "<Figure size 1000x800 with 1 Axes>"
      ]
     },
     "metadata": {},
     "output_type": "display_data"
    }
   ],
   "source": [
    "import numpy as np\n",
    "from sklearn.metrics import f1_score, precision_score, recall_score\n",
    "import matplotlib.pyplot as plt\n",
    "\n",
    "# define a range of thresholds\n",
    "thresholds = np.arange(0.0, 1.0, 0.01)\n",
    "\n",
    "# initialize variables to store the best threshold and the best F1 score\n",
    "best_threshold = 0.0\n",
    "best_f1 = 0.0\n",
    "\n",
    "# initialize lists to store metrics for each threshold\n",
    "f1_scores = []\n",
    "precision_scores = []\n",
    "recall_scores = []\n",
    "balanced_acc_scores = []\n",
    "\n",
    "# iterate over thresholds to calculate metrics\n",
    "for threshold in thresholds:\n",
    "    y_pred_custom = (y_pred_prob >= threshold).astype(int)\n",
    "    f1 = f1_score(y_test, y_pred_custom)\n",
    "    precision = precision_score(y_test, y_pred_custom)\n",
    "    recall = recall_score(y_test, y_pred_custom)\n",
    "    balanced_acc = balanced_accuracy_score(y_test, y_pred_custom)\n",
    "\n",
    "    f1_scores.append(f1)\n",
    "    precision_scores.append(precision)\n",
    "    recall_scores.append(recall)\n",
    "    balanced_acc_scores.append(balanced_acc)\n",
    "\n",
    "    if f1 > best_f1:\n",
    "        best_f1 = f1\n",
    "        best_threshold = threshold\n",
    "\n",
    "# evaluate the model with the best threshold\n",
    "y_pred_best = (y_pred_prob >= best_threshold).astype(int)\n",
    "auc = roc_auc_score(y_test, y_pred_prob)\n",
    "cm = confusion_matrix(y_test, y_pred_best)\n",
    "balanced_acc = balanced_accuracy_score(y_test, y_pred_best)\n",
    "\n",
    "print(\"Best Threshold:\", best_threshold)\n",
    "print(\"Confusion Matrix at Best Threshold:\")\n",
    "print(cm)\n",
    "print(\"\\nAUC Score:\", auc)\n",
    "print(\"Balanced Accuracy Score:\", balanced_acc)\n",
    "print(\"Best F1 Score:\", best_f1)\n",
    "\n",
    "# show trend in the figure\n",
    "plt.figure(figsize=(10, 8))\n",
    "\n",
    "plt.plot(thresholds, f1_scores, label='F1 Score', marker='o')\n",
    "plt.plot(thresholds, precision_scores, label='Precision', marker='x')\n",
    "plt.plot(thresholds, recall_scores, label='Recall', marker='s')\n",
    "plt.plot(thresholds, balanced_acc_scores, label='Balanced Accuracy', marker='d')\n",
    "plt.vlines(best_threshold, 0, 1.0, label=\"Best Threshold\")\n",
    "\n",
    "\n",
    "plt.xlabel('Threshold')\n",
    "plt.ylabel('Score')\n",
    "plt.title('Metrics vs. Threshold')\n",
    "plt.legend()\n",
    "plt.grid(True)\n",
    "plt.show()"
   ]
  },
  {
   "cell_type": "code",
   "execution_count": null,
   "id": "3ee57c7e-4e9e-42b6-82f8-9de3974de97b",
   "metadata": {},
   "outputs": [],
   "source": []
  }
 ],
 "metadata": {
  "kernelspec": {
   "display_name": "Python 3 (ipykernel)",
   "language": "python",
   "name": "python3"
  },
  "language_info": {
   "codemirror_mode": {
    "name": "ipython",
    "version": 3
   },
   "file_extension": ".py",
   "mimetype": "text/x-python",
   "name": "python",
   "nbconvert_exporter": "python",
   "pygments_lexer": "ipython3",
   "version": "3.12.3"
  }
 },
 "nbformat": 4,
 "nbformat_minor": 5
}
