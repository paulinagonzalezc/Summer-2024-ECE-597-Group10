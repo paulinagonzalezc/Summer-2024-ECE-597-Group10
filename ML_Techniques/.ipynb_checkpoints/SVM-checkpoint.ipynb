{
 "cells": [
  {
   "cell_type": "markdown",
   "metadata": {},
   "source": [
    "# ML Technique - SVM\n",
    "\n",
    "Sources: https://github.com/cmadusankahw/email-spam-detection-with-SVM\n",
    "\n",
    "https://www.kaggle.com/code/elnahas/phishing-email-detection-using-svm-rfc"
   ]
  },
  {
   "cell_type": "markdown",
   "metadata": {},
   "source": [
    "### Technique Summary: \n",
    "1. We loaded the email dataset.\n",
    "2. We removed rows with empty body text, and ensured the body text was treated as strings. \n",
    "3. We then used TF-IDF to convert the body text into numerical values that represent the importance of words. \n",
    "4. The dataset was split into training and testing sets, with 80% used to train an SVM classifier to identify phishing emails. \n",
    "5. Finally, we evaluated the model's performance on the test set using accuracy, confusion matrix, and classification report to assess its effectiveness in detecting phishing emails."
   ]
  },
  {
   "cell_type": "code",
   "execution_count": 1,
   "metadata": {},
   "outputs": [],
   "source": [
    "#Importing the necessary libraries\n",
    "import numpy as np\n",
    "import pandas as pd\n",
    "from sklearn import datasets\n",
    "from sklearn.model_selection import train_test_split\n",
    "from sklearn.svm import SVC\n",
    "from sklearn.metrics import confusion_matrix, balanced_accuracy_score, roc_auc_score\n",
    "from sklearn.feature_extraction.text import CountVectorizer\n",
    "from sklearn.feature_extraction.text import TfidfVectorizer"
   ]
  },
  {
   "cell_type": "markdown",
   "metadata": {},
   "source": [
    "## Load the Dataset"
   ]
  },
  {
   "cell_type": "code",
   "execution_count": 3,
   "metadata": {},
   "outputs": [
    {
     "data": {
      "text/html": [
       "<div>\n",
       "<style scoped>\n",
       "    .dataframe tbody tr th:only-of-type {\n",
       "        vertical-align: middle;\n",
       "    }\n",
       "\n",
       "    .dataframe tbody tr th {\n",
       "        vertical-align: top;\n",
       "    }\n",
       "\n",
       "    .dataframe thead th {\n",
       "        text-align: right;\n",
       "    }\n",
       "</style>\n",
       "<table border=\"1\" class=\"dataframe\">\n",
       "  <thead>\n",
       "    <tr style=\"text-align: right;\">\n",
       "      <th></th>\n",
       "      <th>Subject</th>\n",
       "      <th>Body</th>\n",
       "      <th>label</th>\n",
       "      <th>Body_Length</th>\n",
       "    </tr>\n",
       "  </thead>\n",
       "  <tbody>\n",
       "    <tr>\n",
       "      <th>0</th>\n",
       "      <td>good day</td>\n",
       "      <td>greetings i am sorry to encroach into your pri...</td>\n",
       "      <td>1</td>\n",
       "      <td>517</td>\n",
       "    </tr>\n",
       "    <tr>\n",
       "      <th>1</th>\n",
       "      <td>rescheduled dates for pros 9th annual pricing ...</td>\n",
       "      <td>world events and resulting airlineindustry act...</td>\n",
       "      <td>0</td>\n",
       "      <td>805</td>\n",
       "    </tr>\n",
       "    <tr>\n",
       "      <th>2</th>\n",
       "      <td>re graph2</td>\n",
       "      <td>please find attached the q1 q2 q3 and q4 nymex...</td>\n",
       "      <td>0</td>\n",
       "      <td>109</td>\n",
       "    </tr>\n",
       "    <tr>\n",
       "      <th>3</th>\n",
       "      <td>transaction completed</td>\n",
       "      <td>hello advisinguvicca paypal 25feb2022 063703 a...</td>\n",
       "      <td>1</td>\n",
       "      <td>1433</td>\n",
       "    </tr>\n",
       "    <tr>\n",
       "      <th>4</th>\n",
       "      <td>2022 employee benefits plan</td>\n",
       "      <td>the employee benefits program will now be supp...</td>\n",
       "      <td>1</td>\n",
       "      <td>1267</td>\n",
       "    </tr>\n",
       "  </tbody>\n",
       "</table>\n",
       "</div>"
      ],
      "text/plain": [
       "                                             Subject  \\\n",
       "0                                           good day   \n",
       "1  rescheduled dates for pros 9th annual pricing ...   \n",
       "2                                          re graph2   \n",
       "3                              transaction completed   \n",
       "4                        2022 employee benefits plan   \n",
       "\n",
       "                                                Body  label  Body_Length  \n",
       "0  greetings i am sorry to encroach into your pri...      1          517  \n",
       "1  world events and resulting airlineindustry act...      0          805  \n",
       "2  please find attached the q1 q2 q3 and q4 nymex...      0          109  \n",
       "3  hello advisinguvicca paypal 25feb2022 063703 a...      1         1433  \n",
       "4  the employee benefits program will now be supp...      1         1267  "
      ]
     },
     "execution_count": 3,
     "metadata": {},
     "output_type": "execute_result"
    }
   ],
   "source": [
    "import pandas as pd\n",
    "\n",
    "# Load the dataset\n",
    "# data_path = '../masterData.csv'\n",
    "data_path = '../Code/masterDataset.csv'\n",
    "master_data = pd.read_csv(data_path)\n",
    "\n",
    "# Display the first few rows of the dataset\n",
    "master_data.head()"
   ]
  },
  {
   "cell_type": "code",
   "execution_count": 4,
   "metadata": {},
   "outputs": [
    {
     "data": {
      "text/plain": [
       "Subject        7413\n",
       "Body           7694\n",
       "label          7713\n",
       "Body_Length    7713\n",
       "dtype: int64"
      ]
     },
     "execution_count": 4,
     "metadata": {},
     "output_type": "execute_result"
    }
   ],
   "source": [
    "master_data.count()"
   ]
  },
  {
   "cell_type": "code",
   "execution_count": 5,
   "metadata": {},
   "outputs": [
    {
     "name": "stdout",
     "output_type": "stream",
     "text": [
      "Missing values in each column:\n",
      " Subject        300\n",
      "Body            19\n",
      "label            0\n",
      "Body_Length      0\n",
      "dtype: int64\n"
     ]
    }
   ],
   "source": [
    "# Check for missing values\n",
    "missing_values = master_data.isnull().sum()\n",
    "print(\"Missing values in each column:\\n\", missing_values)"
   ]
  },
  {
   "cell_type": "code",
   "execution_count": 6,
   "metadata": {},
   "outputs": [],
   "source": [
    "# Handle missing values\n",
    "# Remove rows with empty 'Body'\n",
    "master_data = master_data.dropna(subset=['Body'])\n",
    "\n",
    "# Replace missing values in 'Subject' with a space\n",
    "master_data['Subject'].fillna(' ', inplace=True)\n",
    "\n",
    "# Fill missing values in 'Body_Length' with the mean\n",
    "from sklearn.impute import SimpleImputer\n",
    "imputer = SimpleImputer(strategy='mean')\n",
    "master_data['Body_Length'] = imputer.fit_transform(master_data[['Body_Length']])"
   ]
  },
  {
   "cell_type": "markdown",
   "metadata": {},
   "source": [
    "# TF-IDF (Term Frequency-Inverse Document Frequency) \n",
    "is a numerical statistic that reflects the importance of a word in a document relative to a collection of documents (called the corpus). It's commonly used in text mining and information retrieval.\n",
    "\n",
    "* Term Frequency (TF): Measures how frequently a term appears in a document. For example, if the word \"phishing\" appears 3 times in a 100-word email, the TF for \"phishing\" is 3/100 = 0.03.\n",
    "* Inverse Document Frequency (IDF): Measures how important a term is across all documents. Rare terms across documents have higher IDF values. For example, if \"phishing\" appears in 10 out of 1000 emails, the IDF for \"phishing\" is log(1000/10).\n",
    "\n",
    "### WHY TF-IDF?\n",
    "* Captures Importance: TF-IDF helps identify important words in an email by balancing the frequency of words in a single email (TF) with how common those words are across all emails (IDF).\n",
    "* Numerical Representation: Machine learning models require numerical input. TF-IDF converts text data into numerical vectors that the models can understand and learn from."
   ]
  },
  {
   "cell_type": "code",
   "execution_count": 7,
   "metadata": {},
   "outputs": [],
   "source": [
    "from sklearn.model_selection import train_test_split\n",
    "from sklearn.feature_extraction.text import TfidfVectorizer\n",
    "from sklearn.svm import SVC\n",
    "from sklearn.metrics import classification_report, accuracy_score, confusion_matrix\n",
    "\n",
    "\n",
    "# Vectorize the 'Body' text data using TF-IDF\n",
    "# We use TF-IDF to convert the text data in the Body column into numerical vectors. \n",
    "# Each email body is transformed into a list of numbers representing the importance of each word in that email.\n",
    "\n",
    "vectorizer = TfidfVectorizer()\n",
    "X = vectorizer.fit_transform(master_data['Body'])\n",
    "y = master_data['label']"
   ]
  },
  {
   "cell_type": "markdown",
   "metadata": {},
   "source": [
    "# Training the SVM model\n",
    "We train the SVM model using the numerical TF-IDF vectors. The model learns patterns and associations between the text (represented as numbers) and the labels (phishing or not phishing)."
   ]
  },
  {
   "cell_type": "code",
   "execution_count": 8,
   "metadata": {},
   "outputs": [],
   "source": [
    "# Split the data into training (80%) and testing (20%) sets\n",
    "# This helps in evaluating the model's performance on unseen data.\n",
    "X_train, X_test, y_train, y_test = train_test_split(X, y, test_size=0.2, random_state=42)"
   ]
  },
  {
   "cell_type": "code",
   "execution_count": 9,
   "metadata": {},
   "outputs": [],
   "source": [
    "# Initialize the SVM classifier\n",
    "svm_classifier = SVC()"
   ]
  },
  {
   "cell_type": "code",
   "execution_count": 10,
   "metadata": {},
   "outputs": [],
   "source": [
    "# Train the SVM classifier on the training data\n",
    "svm_classifier.fit(X_train, y_train)\n",
    "\n",
    "# Make predictions on the test data\n",
    "y_pred = svm_classifier.predict(X_test)"
   ]
  },
  {
   "cell_type": "markdown",
   "metadata": {},
   "source": [
    "## Evaluate the Model:\n",
    "\n",
    "Test the model on the testing set to see how well it can predict whether an email is phishing based on the learned patterns."
   ]
  },
  {
   "cell_type": "code",
   "execution_count": 11,
   "metadata": {},
   "outputs": [
    {
     "name": "stdout",
     "output_type": "stream",
     "text": [
      "Accuracy: 0.96816114359974\n",
      "Confusion Matrix:\n",
      " [[1010   10]\n",
      " [  39  480]]\n",
      "Classification Report:\n",
      "               precision    recall  f1-score   support\n",
      "\n",
      "           0       0.96      0.99      0.98      1020\n",
      "           1       0.98      0.92      0.95       519\n",
      "\n",
      "    accuracy                           0.97      1539\n",
      "   macro avg       0.97      0.96      0.96      1539\n",
      "weighted avg       0.97      0.97      0.97      1539\n",
      "\n"
     ]
    }
   ],
   "source": [
    "# Evaluate the model\n",
    "accuracy = accuracy_score(y_test, y_pred)\n",
    "conf_matrix = confusion_matrix(y_test, y_pred)\n",
    "class_report = classification_report(y_test, y_pred)\n",
    "\n",
    "print(\"Accuracy:\", accuracy)\n",
    "print(\"Confusion Matrix:\\n\", conf_matrix)\n",
    "print(\"Classification Report:\\n\", class_report)"
   ]
  },
  {
   "cell_type": "code",
   "execution_count": null,
   "metadata": {},
   "outputs": [],
   "source": []
  }
 ],
 "metadata": {
  "kernelspec": {
   "display_name": "Python 3 (ipykernel)",
   "language": "python",
   "name": "python3"
  },
  "language_info": {
   "codemirror_mode": {
    "name": "ipython",
    "version": 3
   },
   "file_extension": ".py",
   "mimetype": "text/x-python",
   "name": "python",
   "nbconvert_exporter": "python",
   "pygments_lexer": "ipython3",
   "version": "3.10.9"
  }
 },
 "nbformat": 4,
 "nbformat_minor": 4
}
