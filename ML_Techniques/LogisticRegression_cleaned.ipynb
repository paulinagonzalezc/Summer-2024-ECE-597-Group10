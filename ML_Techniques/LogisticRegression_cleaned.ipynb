{
  "cells": [
    {
      "cell_type": "markdown",
      "source": [
        "# Import and Functions\n"
      ],
      "metadata": {
        "id": "DyYHkJADA6z7"
      },
      "id": "DyYHkJADA6z7"
    },
    {
      "cell_type": "code",
      "source": [
        "import pandas as pd\n",
        "import seaborn as sns\n",
        "from sklearn.model_selection import train_test_split, cross_val_score, GridSearchCV, StratifiedKFold\n",
        "from sklearn.feature_extraction.text import TfidfVectorizer, CountVectorizer\n",
        "from sklearn.linear_model import LogisticRegression\n",
        "from sklearn.metrics import roc_auc_score, confusion_matrix, balanced_accuracy_score, f1_score, precision_score, recall_score\n",
        "from sklearn.pipeline import Pipeline\n",
        "import numpy as np\n",
        "import matplotlib.pyplot as plt\n",
        "import spacy\n",
        "from sklearn.base import BaseEstimator, TransformerMixin\n",
        "!python -m spacy download en_core_web_md\n",
        "!pip install gensim scikit-learn\n",
        "import gensim"
      ],
      "metadata": {
        "id": "2XEXXXs99FOB",
        "colab": {
          "base_uri": "https://localhost:8080/"
        },
        "outputId": "95db1c83-1e34-49b9-92eb-c2691c0d855f"
      },
      "id": "2XEXXXs99FOB",
      "execution_count": 41,
      "outputs": [
        {
          "output_type": "stream",
          "name": "stdout",
          "text": [
            "Collecting en-core-web-md==3.7.1\n",
            "  Downloading https://github.com/explosion/spacy-models/releases/download/en_core_web_md-3.7.1/en_core_web_md-3.7.1-py3-none-any.whl (42.8 MB)\n",
            "\u001b[2K     \u001b[90m━━━━━━━━━━━━━━━━━━━━━━━━━━━━━━━━━━━━━━━━\u001b[0m \u001b[32m42.8/42.8 MB\u001b[0m \u001b[31m10.8 MB/s\u001b[0m eta \u001b[36m0:00:00\u001b[0m\n",
            "\u001b[?25hRequirement already satisfied: spacy<3.8.0,>=3.7.2 in /usr/local/lib/python3.10/dist-packages (from en-core-web-md==3.7.1) (3.7.4)\n",
            "Requirement already satisfied: spacy-legacy<3.1.0,>=3.0.11 in /usr/local/lib/python3.10/dist-packages (from spacy<3.8.0,>=3.7.2->en-core-web-md==3.7.1) (3.0.12)\n",
            "Requirement already satisfied: spacy-loggers<2.0.0,>=1.0.0 in /usr/local/lib/python3.10/dist-packages (from spacy<3.8.0,>=3.7.2->en-core-web-md==3.7.1) (1.0.5)\n",
            "Requirement already satisfied: murmurhash<1.1.0,>=0.28.0 in /usr/local/lib/python3.10/dist-packages (from spacy<3.8.0,>=3.7.2->en-core-web-md==3.7.1) (1.0.10)\n",
            "Requirement already satisfied: cymem<2.1.0,>=2.0.2 in /usr/local/lib/python3.10/dist-packages (from spacy<3.8.0,>=3.7.2->en-core-web-md==3.7.1) (2.0.8)\n",
            "Requirement already satisfied: preshed<3.1.0,>=3.0.2 in /usr/local/lib/python3.10/dist-packages (from spacy<3.8.0,>=3.7.2->en-core-web-md==3.7.1) (3.0.9)\n",
            "Requirement already satisfied: thinc<8.3.0,>=8.2.2 in /usr/local/lib/python3.10/dist-packages (from spacy<3.8.0,>=3.7.2->en-core-web-md==3.7.1) (8.2.3)\n",
            "Requirement already satisfied: wasabi<1.2.0,>=0.9.1 in /usr/local/lib/python3.10/dist-packages (from spacy<3.8.0,>=3.7.2->en-core-web-md==3.7.1) (1.1.2)\n",
            "Requirement already satisfied: srsly<3.0.0,>=2.4.3 in /usr/local/lib/python3.10/dist-packages (from spacy<3.8.0,>=3.7.2->en-core-web-md==3.7.1) (2.4.8)\n",
            "Requirement already satisfied: catalogue<2.1.0,>=2.0.6 in /usr/local/lib/python3.10/dist-packages (from spacy<3.8.0,>=3.7.2->en-core-web-md==3.7.1) (2.0.10)\n",
            "Requirement already satisfied: weasel<0.4.0,>=0.1.0 in /usr/local/lib/python3.10/dist-packages (from spacy<3.8.0,>=3.7.2->en-core-web-md==3.7.1) (0.3.4)\n",
            "Requirement already satisfied: typer<0.10.0,>=0.3.0 in /usr/local/lib/python3.10/dist-packages (from spacy<3.8.0,>=3.7.2->en-core-web-md==3.7.1) (0.9.4)\n",
            "Requirement already satisfied: smart-open<7.0.0,>=5.2.1 in /usr/local/lib/python3.10/dist-packages (from spacy<3.8.0,>=3.7.2->en-core-web-md==3.7.1) (6.4.0)\n",
            "Requirement already satisfied: tqdm<5.0.0,>=4.38.0 in /usr/local/lib/python3.10/dist-packages (from spacy<3.8.0,>=3.7.2->en-core-web-md==3.7.1) (4.66.2)\n",
            "Requirement already satisfied: requests<3.0.0,>=2.13.0 in /usr/local/lib/python3.10/dist-packages (from spacy<3.8.0,>=3.7.2->en-core-web-md==3.7.1) (2.31.0)\n",
            "Requirement already satisfied: pydantic!=1.8,!=1.8.1,<3.0.0,>=1.7.4 in /usr/local/lib/python3.10/dist-packages (from spacy<3.8.0,>=3.7.2->en-core-web-md==3.7.1) (2.7.1)\n",
            "Requirement already satisfied: jinja2 in /usr/local/lib/python3.10/dist-packages (from spacy<3.8.0,>=3.7.2->en-core-web-md==3.7.1) (3.1.3)\n",
            "Requirement already satisfied: setuptools in /usr/local/lib/python3.10/dist-packages (from spacy<3.8.0,>=3.7.2->en-core-web-md==3.7.1) (67.7.2)\n",
            "Requirement already satisfied: packaging>=20.0 in /usr/local/lib/python3.10/dist-packages (from spacy<3.8.0,>=3.7.2->en-core-web-md==3.7.1) (24.0)\n",
            "Requirement already satisfied: langcodes<4.0.0,>=3.2.0 in /usr/local/lib/python3.10/dist-packages (from spacy<3.8.0,>=3.7.2->en-core-web-md==3.7.1) (3.4.0)\n",
            "Requirement already satisfied: numpy>=1.19.0 in /usr/local/lib/python3.10/dist-packages (from spacy<3.8.0,>=3.7.2->en-core-web-md==3.7.1) (1.25.2)\n",
            "Requirement already satisfied: language-data>=1.2 in /usr/local/lib/python3.10/dist-packages (from langcodes<4.0.0,>=3.2.0->spacy<3.8.0,>=3.7.2->en-core-web-md==3.7.1) (1.2.0)\n",
            "Requirement already satisfied: annotated-types>=0.4.0 in /usr/local/lib/python3.10/dist-packages (from pydantic!=1.8,!=1.8.1,<3.0.0,>=1.7.4->spacy<3.8.0,>=3.7.2->en-core-web-md==3.7.1) (0.6.0)\n",
            "Requirement already satisfied: pydantic-core==2.18.2 in /usr/local/lib/python3.10/dist-packages (from pydantic!=1.8,!=1.8.1,<3.0.0,>=1.7.4->spacy<3.8.0,>=3.7.2->en-core-web-md==3.7.1) (2.18.2)\n",
            "Requirement already satisfied: typing-extensions>=4.6.1 in /usr/local/lib/python3.10/dist-packages (from pydantic!=1.8,!=1.8.1,<3.0.0,>=1.7.4->spacy<3.8.0,>=3.7.2->en-core-web-md==3.7.1) (4.11.0)\n",
            "Requirement already satisfied: charset-normalizer<4,>=2 in /usr/local/lib/python3.10/dist-packages (from requests<3.0.0,>=2.13.0->spacy<3.8.0,>=3.7.2->en-core-web-md==3.7.1) (3.3.2)\n",
            "Requirement already satisfied: idna<4,>=2.5 in /usr/local/lib/python3.10/dist-packages (from requests<3.0.0,>=2.13.0->spacy<3.8.0,>=3.7.2->en-core-web-md==3.7.1) (3.7)\n",
            "Requirement already satisfied: urllib3<3,>=1.21.1 in /usr/local/lib/python3.10/dist-packages (from requests<3.0.0,>=2.13.0->spacy<3.8.0,>=3.7.2->en-core-web-md==3.7.1) (2.0.7)\n",
            "Requirement already satisfied: certifi>=2017.4.17 in /usr/local/lib/python3.10/dist-packages (from requests<3.0.0,>=2.13.0->spacy<3.8.0,>=3.7.2->en-core-web-md==3.7.1) (2024.2.2)\n",
            "Requirement already satisfied: blis<0.8.0,>=0.7.8 in /usr/local/lib/python3.10/dist-packages (from thinc<8.3.0,>=8.2.2->spacy<3.8.0,>=3.7.2->en-core-web-md==3.7.1) (0.7.11)\n",
            "Requirement already satisfied: confection<1.0.0,>=0.0.1 in /usr/local/lib/python3.10/dist-packages (from thinc<8.3.0,>=8.2.2->spacy<3.8.0,>=3.7.2->en-core-web-md==3.7.1) (0.1.4)\n",
            "Requirement already satisfied: click<9.0.0,>=7.1.1 in /usr/local/lib/python3.10/dist-packages (from typer<0.10.0,>=0.3.0->spacy<3.8.0,>=3.7.2->en-core-web-md==3.7.1) (8.1.7)\n",
            "Requirement already satisfied: cloudpathlib<0.17.0,>=0.7.0 in /usr/local/lib/python3.10/dist-packages (from weasel<0.4.0,>=0.1.0->spacy<3.8.0,>=3.7.2->en-core-web-md==3.7.1) (0.16.0)\n",
            "Requirement already satisfied: MarkupSafe>=2.0 in /usr/local/lib/python3.10/dist-packages (from jinja2->spacy<3.8.0,>=3.7.2->en-core-web-md==3.7.1) (2.1.5)\n",
            "Requirement already satisfied: marisa-trie>=0.7.7 in /usr/local/lib/python3.10/dist-packages (from language-data>=1.2->langcodes<4.0.0,>=3.2.0->spacy<3.8.0,>=3.7.2->en-core-web-md==3.7.1) (1.1.0)\n",
            "\u001b[38;5;2m✔ Download and installation successful\u001b[0m\n",
            "You can now load the package via spacy.load('en_core_web_md')\n",
            "\u001b[38;5;3m⚠ Restart to reload dependencies\u001b[0m\n",
            "If you are in a Jupyter or Colab notebook, you may need to restart Python in\n",
            "order to load all the package's dependencies. You can do this by selecting the\n",
            "'Restart kernel' or 'Restart runtime' option.\n",
            "Requirement already satisfied: gensim in /usr/local/lib/python3.10/dist-packages (4.3.2)\n",
            "Requirement already satisfied: scikit-learn in /usr/local/lib/python3.10/dist-packages (1.2.2)\n",
            "Requirement already satisfied: numpy>=1.18.5 in /usr/local/lib/python3.10/dist-packages (from gensim) (1.25.2)\n",
            "Requirement already satisfied: scipy>=1.7.0 in /usr/local/lib/python3.10/dist-packages (from gensim) (1.11.4)\n",
            "Requirement already satisfied: smart-open>=1.8.1 in /usr/local/lib/python3.10/dist-packages (from gensim) (6.4.0)\n",
            "Requirement already satisfied: joblib>=1.1.1 in /usr/local/lib/python3.10/dist-packages (from scikit-learn) (1.4.0)\n",
            "Requirement already satisfied: threadpoolctl>=2.0.0 in /usr/local/lib/python3.10/dist-packages (from scikit-learn) (3.5.0)\n"
          ]
        }
      ]
    },
    {
      "cell_type": "code",
      "source": [
        "def cross_validation(pipeline, X_train, y_train, X_test, y_test, X_valid, y_valid, range_name):\n",
        "  # Defining the cross-validation procedure\n",
        "  cv = StratifiedKFold(n_splits=5, shuffle=True, random_state=42)\n",
        "\n",
        "  # # Evaluating the model with cross-validation\n",
        "  # cv_scores = cross_val_score(pipeline, X_train, y_train, cv=cv, scoring='f1')\n",
        "  # print(\"Cross-Validation F1 Scores:\", cv_scores)\n",
        "  # print(\"Mean Cross-Validation F1 Score:\", cv_scores.mean())\n",
        "\n",
        "  # Defining the parameter grid for GridSearchCV\n",
        "  param_grid = {\n",
        "      'classifier__C': [0.1, 1, 10],\n",
        "      'classifier__penalty': ['l2'],\n",
        "  }\n",
        "\n",
        "  if range_name == 'tfidf__ngram_range' or range_name == 'vectorizer__ngram_range':\n",
        "    param_grid[range_name] = [(1, 1), (1, 2)]\n",
        "  elif range_name == 'classifier__solver':\n",
        "    param_grid[range_name] = ['lbfgs', 'saga']\n",
        "\n",
        "  # Creating the GridSearchCV object\n",
        "  grid_search = GridSearchCV(pipeline, param_grid, cv=cv, scoring='f1', n_jobs=-1)\n",
        "\n",
        "  # Fitting the model using grid search with validation set\n",
        "  grid_search.fit(X_train, y_train)\n",
        "\n",
        "  # Best parameters and best score\n",
        "  print(\"Best Parameters:\", grid_search.best_params_)\n",
        "  print(\"Best Cross-Validation F1 Score:\", grid_search.best_score_)\n",
        "\n",
        "  # Using the best estimator to make predictions\n",
        "  best_pipeline = grid_search.best_estimator_\n",
        "\n",
        "\n",
        "  print('\\nFor Valid Dataset:')\n",
        "  # Performing cross-validation on the validation data\n",
        "  cv_scores = cross_val_score(best_pipeline, X_valid, y_valid, cv=5, scoring='roc_auc')\n",
        "\n",
        "  print(\"Cross Validation AUC Scores on Validation Data:\", cv_scores)\n",
        "  print(\"Mean AUC Score on Validation Data:\", np.mean(cv_scores))\n",
        "\n",
        "  # Predicting on the test data with the best model\n",
        "  y_pred_best = best_pipeline.predict(X_test)\n",
        "  y_pred_prob_best = best_pipeline.predict_proba(X_test)[:, 1]\n",
        "\n",
        "  # Evaluating the best model\n",
        "  auc_best = roc_auc_score(y_test, y_pred_prob_best)\n",
        "  cm_best = confusion_matrix(y_test, y_pred_best)\n",
        "  balanced_acc_best = balanced_accuracy_score(y_test, y_pred_best)\n",
        "  f1_best = f1_score(y_test, y_pred_best)\n",
        "  print('\\nFor Test Dataset:')\n",
        "  print(\"Confusion Matrix:\")\n",
        "  print(cm_best)\n",
        "  print(\"AUC Score:\", auc_best)\n",
        "  print(\"Balanced Accuracy Score:\", balanced_acc_best)\n",
        "  print(\"F1 Score:\", f1_best)\n",
        "\n",
        "  return y_pred_prob_best"
      ],
      "metadata": {
        "id": "MiNsEuzbFZWh"
      },
      "id": "MiNsEuzbFZWh",
      "execution_count": 34,
      "outputs": []
    },
    {
      "cell_type": "code",
      "source": [
        "def best_threshold_selection(y_pred_prob, y_test):\n",
        "  # Define a range of thresholds\n",
        "  thresholds = np.arange(0.0, 1.0, 0.01)\n",
        "\n",
        "  # Initialize variables to store the best threshold and the best F1 score\n",
        "  best_threshold = 0.0\n",
        "  best_f1 = 0.0\n",
        "\n",
        "  # Initialize lists to store metrics for each threshold\n",
        "  f1_scores = []\n",
        "  precision_scores = []\n",
        "  recall_scores = []\n",
        "  balanced_acc_scores = []\n",
        "\n",
        "  # Iterate over thresholds to calculate metrics\n",
        "  for threshold in thresholds:\n",
        "      y_pred_custom = (y_pred_prob >= threshold).astype(int)\n",
        "      f1 = f1_score(y_test, y_pred_custom)\n",
        "      precision = precision_score(y_test, y_pred_custom)\n",
        "      recall = recall_score(y_test, y_pred_custom)\n",
        "      balanced_acc = balanced_accuracy_score(y_test, y_pred_custom)\n",
        "\n",
        "      f1_scores.append(f1)\n",
        "      precision_scores.append(precision)\n",
        "      recall_scores.append(recall)\n",
        "      balanced_acc_scores.append(balanced_acc)\n",
        "\n",
        "      if f1 > best_f1:\n",
        "          best_f1 = f1\n",
        "          best_threshold = threshold\n",
        "\n",
        "  # evaluate the model with the best threshold\n",
        "  y_pred_best = (y_pred_prob >= best_threshold).astype(int)\n",
        "  auc = roc_auc_score(y_test, y_pred_prob)\n",
        "  cm = confusion_matrix(y_test, y_pred_best)\n",
        "  balanced_acc = balanced_accuracy_score(y_test, y_pred_best)\n",
        "\n",
        "  print(\"Best Threshold:\", best_threshold)\n",
        "  print(\"Confusion Matrix at Best Threshold:\")\n",
        "  print(cm)\n",
        "\n",
        "  plt.figure(figsize=(4, 4))\n",
        "  sns.heatmap(cm, annot=True, fmt='d', cmap='Blues', cbar=False,\n",
        "                xticklabels=['FP', 'TP'],\n",
        "              yticklabels=['TF', 'FN'])\n",
        "  plt.xlabel('Predicted')\n",
        "  plt.ylabel('Actual')\n",
        "  plt.title('Confusion Matrix')\n",
        "  plt.show()\n",
        "\n",
        "  print(\"\\nAUC Score:\", auc)\n",
        "  print(\"Balanced Accuracy Score:\", balanced_acc)\n",
        "  print(\"Best F1 Score:\", best_f1)\n",
        "\n",
        "  # # Show trend in the figure\n",
        "  # plt.figure(figsize=(10, 8))\n",
        "\n",
        "  # plt.plot(thresholds, f1_scores, label='F1 Score', marker='o')\n",
        "  # plt.plot(thresholds, precision_scores, label='Precision', marker='x')\n",
        "  # plt.plot(thresholds, recall_scores, label='Recall', marker='s')\n",
        "  # plt.plot(thresholds, balanced_acc_scores, label='Balanced Accuracy', marker='d')\n",
        "  # plt.vlines(best_threshold, 0, 1.0, label=\"Best Threshold\", colors='r')\n",
        "\n",
        "  # plt.xlabel('Threshold')\n",
        "  # plt.ylabel('Score')\n",
        "  # plt.title('Metrics vs. Threshold')\n",
        "  # plt.legend()\n",
        "  # plt.grid(True)\n",
        "  # plt.show()"
      ],
      "metadata": {
        "id": "1c05R4jW-yV7"
      },
      "id": "1c05R4jW-yV7",
      "execution_count": 3,
      "outputs": []
    },
    {
      "cell_type": "markdown",
      "id": "6f3a4ce8-36a3-47fc-aafe-9a495bae0d44",
      "metadata": {
        "id": "6f3a4ce8-36a3-47fc-aafe-9a495bae0d44"
      },
      "source": [
        "# V1: Imbalanced Data"
      ]
    },
    {
      "cell_type": "code",
      "execution_count": null,
      "id": "23259dd0-ea9e-4078-99cc-755f8503700d",
      "metadata": {
        "colab": {
          "base_uri": "https://localhost:8080/",
          "height": 356
        },
        "id": "23259dd0-ea9e-4078-99cc-755f8503700d",
        "outputId": "abf158fd-2017-4d7d-c187-3a860a513923"
      },
      "outputs": [
        {
          "ename": "KeyboardInterrupt",
          "evalue": "",
          "output_type": "error",
          "traceback": [
            "\u001b[0;31m---------------------------------------------------------------------------\u001b[0m",
            "\u001b[0;31mKeyboardInterrupt\u001b[0m                         Traceback (most recent call last)",
            "\u001b[0;32m<ipython-input-12-a3d4afd5fc5a>\u001b[0m in \u001b[0;36m<cell line: 29>\u001b[0;34m()\u001b[0m\n\u001b[1;32m     27\u001b[0m \u001b[0;34m\u001b[0m\u001b[0m\n\u001b[1;32m     28\u001b[0m \u001b[0;31m# training the model\u001b[0m\u001b[0;34m\u001b[0m\u001b[0;34m\u001b[0m\u001b[0m\n\u001b[0;32m---> 29\u001b[0;31m \u001b[0mpipeline\u001b[0m\u001b[0;34m.\u001b[0m\u001b[0mfit\u001b[0m\u001b[0;34m(\u001b[0m\u001b[0mX_train\u001b[0m\u001b[0;34m,\u001b[0m \u001b[0my_train\u001b[0m\u001b[0;34m)\u001b[0m\u001b[0;34m\u001b[0m\u001b[0;34m\u001b[0m\u001b[0m\n\u001b[0m\u001b[1;32m     30\u001b[0m \u001b[0;34m\u001b[0m\u001b[0m\n\u001b[1;32m     31\u001b[0m \u001b[0;31m# predicting on the test data\u001b[0m\u001b[0;34m\u001b[0m\u001b[0;34m\u001b[0m\u001b[0m\n",
            "\u001b[0;32m/usr/local/lib/python3.10/dist-packages/sklearn/pipeline.py\u001b[0m in \u001b[0;36mfit\u001b[0;34m(self, X, y, **fit_params)\u001b[0m\n\u001b[1;32m    399\u001b[0m         \"\"\"\n\u001b[1;32m    400\u001b[0m         \u001b[0mfit_params_steps\u001b[0m \u001b[0;34m=\u001b[0m \u001b[0mself\u001b[0m\u001b[0;34m.\u001b[0m\u001b[0m_check_fit_params\u001b[0m\u001b[0;34m(\u001b[0m\u001b[0;34m**\u001b[0m\u001b[0mfit_params\u001b[0m\u001b[0;34m)\u001b[0m\u001b[0;34m\u001b[0m\u001b[0;34m\u001b[0m\u001b[0m\n\u001b[0;32m--> 401\u001b[0;31m         \u001b[0mXt\u001b[0m \u001b[0;34m=\u001b[0m \u001b[0mself\u001b[0m\u001b[0;34m.\u001b[0m\u001b[0m_fit\u001b[0m\u001b[0;34m(\u001b[0m\u001b[0mX\u001b[0m\u001b[0;34m,\u001b[0m \u001b[0my\u001b[0m\u001b[0;34m,\u001b[0m \u001b[0;34m**\u001b[0m\u001b[0mfit_params_steps\u001b[0m\u001b[0;34m)\u001b[0m\u001b[0;34m\u001b[0m\u001b[0;34m\u001b[0m\u001b[0m\n\u001b[0m\u001b[1;32m    402\u001b[0m         \u001b[0;32mwith\u001b[0m \u001b[0m_print_elapsed_time\u001b[0m\u001b[0;34m(\u001b[0m\u001b[0;34m\"Pipeline\"\u001b[0m\u001b[0;34m,\u001b[0m \u001b[0mself\u001b[0m\u001b[0;34m.\u001b[0m\u001b[0m_log_message\u001b[0m\u001b[0;34m(\u001b[0m\u001b[0mlen\u001b[0m\u001b[0;34m(\u001b[0m\u001b[0mself\u001b[0m\u001b[0;34m.\u001b[0m\u001b[0msteps\u001b[0m\u001b[0;34m)\u001b[0m \u001b[0;34m-\u001b[0m \u001b[0;36m1\u001b[0m\u001b[0;34m)\u001b[0m\u001b[0;34m)\u001b[0m\u001b[0;34m:\u001b[0m\u001b[0;34m\u001b[0m\u001b[0;34m\u001b[0m\u001b[0m\n\u001b[1;32m    403\u001b[0m             \u001b[0;32mif\u001b[0m \u001b[0mself\u001b[0m\u001b[0;34m.\u001b[0m\u001b[0m_final_estimator\u001b[0m \u001b[0;34m!=\u001b[0m \u001b[0;34m\"passthrough\"\u001b[0m\u001b[0;34m:\u001b[0m\u001b[0;34m\u001b[0m\u001b[0;34m\u001b[0m\u001b[0m\n",
            "\u001b[0;32m/usr/local/lib/python3.10/dist-packages/sklearn/pipeline.py\u001b[0m in \u001b[0;36m_fit\u001b[0;34m(self, X, y, **fit_params_steps)\u001b[0m\n\u001b[1;32m    357\u001b[0m                 \u001b[0mcloned_transformer\u001b[0m \u001b[0;34m=\u001b[0m \u001b[0mclone\u001b[0m\u001b[0;34m(\u001b[0m\u001b[0mtransformer\u001b[0m\u001b[0;34m)\u001b[0m\u001b[0;34m\u001b[0m\u001b[0;34m\u001b[0m\u001b[0m\n\u001b[1;32m    358\u001b[0m             \u001b[0;31m# Fit or load from cache the current transformer\u001b[0m\u001b[0;34m\u001b[0m\u001b[0;34m\u001b[0m\u001b[0m\n\u001b[0;32m--> 359\u001b[0;31m             X, fitted_transformer = fit_transform_one_cached(\n\u001b[0m\u001b[1;32m    360\u001b[0m                 \u001b[0mcloned_transformer\u001b[0m\u001b[0;34m,\u001b[0m\u001b[0;34m\u001b[0m\u001b[0;34m\u001b[0m\u001b[0m\n\u001b[1;32m    361\u001b[0m                 \u001b[0mX\u001b[0m\u001b[0;34m,\u001b[0m\u001b[0;34m\u001b[0m\u001b[0;34m\u001b[0m\u001b[0m\n",
            "\u001b[0;32m/usr/local/lib/python3.10/dist-packages/joblib/memory.py\u001b[0m in \u001b[0;36m__call__\u001b[0;34m(self, *args, **kwargs)\u001b[0m\n\u001b[1;32m    310\u001b[0m \u001b[0;34m\u001b[0m\u001b[0m\n\u001b[1;32m    311\u001b[0m     \u001b[0;32mdef\u001b[0m \u001b[0m__call__\u001b[0m\u001b[0;34m(\u001b[0m\u001b[0mself\u001b[0m\u001b[0;34m,\u001b[0m \u001b[0;34m*\u001b[0m\u001b[0margs\u001b[0m\u001b[0;34m,\u001b[0m \u001b[0;34m**\u001b[0m\u001b[0mkwargs\u001b[0m\u001b[0;34m)\u001b[0m\u001b[0;34m:\u001b[0m\u001b[0;34m\u001b[0m\u001b[0;34m\u001b[0m\u001b[0m\n\u001b[0;32m--> 312\u001b[0;31m         \u001b[0;32mreturn\u001b[0m \u001b[0mself\u001b[0m\u001b[0;34m.\u001b[0m\u001b[0mfunc\u001b[0m\u001b[0;34m(\u001b[0m\u001b[0;34m*\u001b[0m\u001b[0margs\u001b[0m\u001b[0;34m,\u001b[0m \u001b[0;34m**\u001b[0m\u001b[0mkwargs\u001b[0m\u001b[0;34m)\u001b[0m\u001b[0;34m\u001b[0m\u001b[0;34m\u001b[0m\u001b[0m\n\u001b[0m\u001b[1;32m    313\u001b[0m \u001b[0;34m\u001b[0m\u001b[0m\n\u001b[1;32m    314\u001b[0m     \u001b[0;32mdef\u001b[0m \u001b[0mcall_and_shelve\u001b[0m\u001b[0;34m(\u001b[0m\u001b[0mself\u001b[0m\u001b[0;34m,\u001b[0m \u001b[0;34m*\u001b[0m\u001b[0margs\u001b[0m\u001b[0;34m,\u001b[0m \u001b[0;34m**\u001b[0m\u001b[0mkwargs\u001b[0m\u001b[0;34m)\u001b[0m\u001b[0;34m:\u001b[0m\u001b[0;34m\u001b[0m\u001b[0;34m\u001b[0m\u001b[0m\n",
            "\u001b[0;32m/usr/local/lib/python3.10/dist-packages/sklearn/pipeline.py\u001b[0m in \u001b[0;36m_fit_transform_one\u001b[0;34m(transformer, X, y, weight, message_clsname, message, **fit_params)\u001b[0m\n\u001b[1;32m    891\u001b[0m     \u001b[0;32mwith\u001b[0m \u001b[0m_print_elapsed_time\u001b[0m\u001b[0;34m(\u001b[0m\u001b[0mmessage_clsname\u001b[0m\u001b[0;34m,\u001b[0m \u001b[0mmessage\u001b[0m\u001b[0;34m)\u001b[0m\u001b[0;34m:\u001b[0m\u001b[0;34m\u001b[0m\u001b[0;34m\u001b[0m\u001b[0m\n\u001b[1;32m    892\u001b[0m         \u001b[0;32mif\u001b[0m \u001b[0mhasattr\u001b[0m\u001b[0;34m(\u001b[0m\u001b[0mtransformer\u001b[0m\u001b[0;34m,\u001b[0m \u001b[0;34m\"fit_transform\"\u001b[0m\u001b[0;34m)\u001b[0m\u001b[0;34m:\u001b[0m\u001b[0;34m\u001b[0m\u001b[0;34m\u001b[0m\u001b[0m\n\u001b[0;32m--> 893\u001b[0;31m             \u001b[0mres\u001b[0m \u001b[0;34m=\u001b[0m \u001b[0mtransformer\u001b[0m\u001b[0;34m.\u001b[0m\u001b[0mfit_transform\u001b[0m\u001b[0;34m(\u001b[0m\u001b[0mX\u001b[0m\u001b[0;34m,\u001b[0m \u001b[0my\u001b[0m\u001b[0;34m,\u001b[0m \u001b[0;34m**\u001b[0m\u001b[0mfit_params\u001b[0m\u001b[0;34m)\u001b[0m\u001b[0;34m\u001b[0m\u001b[0;34m\u001b[0m\u001b[0m\n\u001b[0m\u001b[1;32m    894\u001b[0m         \u001b[0;32melse\u001b[0m\u001b[0;34m:\u001b[0m\u001b[0;34m\u001b[0m\u001b[0;34m\u001b[0m\u001b[0m\n\u001b[1;32m    895\u001b[0m             \u001b[0mres\u001b[0m \u001b[0;34m=\u001b[0m \u001b[0mtransformer\u001b[0m\u001b[0;34m.\u001b[0m\u001b[0mfit\u001b[0m\u001b[0;34m(\u001b[0m\u001b[0mX\u001b[0m\u001b[0;34m,\u001b[0m \u001b[0my\u001b[0m\u001b[0;34m,\u001b[0m \u001b[0;34m**\u001b[0m\u001b[0mfit_params\u001b[0m\u001b[0;34m)\u001b[0m\u001b[0;34m.\u001b[0m\u001b[0mtransform\u001b[0m\u001b[0;34m(\u001b[0m\u001b[0mX\u001b[0m\u001b[0;34m)\u001b[0m\u001b[0;34m\u001b[0m\u001b[0;34m\u001b[0m\u001b[0m\n",
            "\u001b[0;32m/usr/local/lib/python3.10/dist-packages/sklearn/feature_extraction/text.py\u001b[0m in \u001b[0;36mfit_transform\u001b[0;34m(self, raw_documents, y)\u001b[0m\n\u001b[1;32m   2131\u001b[0m             \u001b[0msublinear_tf\u001b[0m\u001b[0;34m=\u001b[0m\u001b[0mself\u001b[0m\u001b[0;34m.\u001b[0m\u001b[0msublinear_tf\u001b[0m\u001b[0;34m,\u001b[0m\u001b[0;34m\u001b[0m\u001b[0;34m\u001b[0m\u001b[0m\n\u001b[1;32m   2132\u001b[0m         )\n\u001b[0;32m-> 2133\u001b[0;31m         \u001b[0mX\u001b[0m \u001b[0;34m=\u001b[0m \u001b[0msuper\u001b[0m\u001b[0;34m(\u001b[0m\u001b[0;34m)\u001b[0m\u001b[0;34m.\u001b[0m\u001b[0mfit_transform\u001b[0m\u001b[0;34m(\u001b[0m\u001b[0mraw_documents\u001b[0m\u001b[0;34m)\u001b[0m\u001b[0;34m\u001b[0m\u001b[0;34m\u001b[0m\u001b[0m\n\u001b[0m\u001b[1;32m   2134\u001b[0m         \u001b[0mself\u001b[0m\u001b[0;34m.\u001b[0m\u001b[0m_tfidf\u001b[0m\u001b[0;34m.\u001b[0m\u001b[0mfit\u001b[0m\u001b[0;34m(\u001b[0m\u001b[0mX\u001b[0m\u001b[0;34m)\u001b[0m\u001b[0;34m\u001b[0m\u001b[0;34m\u001b[0m\u001b[0m\n\u001b[1;32m   2135\u001b[0m         \u001b[0;31m# X is already a transformed view of raw_documents so\u001b[0m\u001b[0;34m\u001b[0m\u001b[0;34m\u001b[0m\u001b[0m\n",
            "\u001b[0;32m/usr/local/lib/python3.10/dist-packages/sklearn/feature_extraction/text.py\u001b[0m in \u001b[0;36mfit_transform\u001b[0;34m(self, raw_documents, y)\u001b[0m\n\u001b[1;32m   1386\u001b[0m                     \u001b[0;32mbreak\u001b[0m\u001b[0;34m\u001b[0m\u001b[0;34m\u001b[0m\u001b[0m\n\u001b[1;32m   1387\u001b[0m \u001b[0;34m\u001b[0m\u001b[0m\n\u001b[0;32m-> 1388\u001b[0;31m         \u001b[0mvocabulary\u001b[0m\u001b[0;34m,\u001b[0m \u001b[0mX\u001b[0m \u001b[0;34m=\u001b[0m \u001b[0mself\u001b[0m\u001b[0;34m.\u001b[0m\u001b[0m_count_vocab\u001b[0m\u001b[0;34m(\u001b[0m\u001b[0mraw_documents\u001b[0m\u001b[0;34m,\u001b[0m \u001b[0mself\u001b[0m\u001b[0;34m.\u001b[0m\u001b[0mfixed_vocabulary_\u001b[0m\u001b[0;34m)\u001b[0m\u001b[0;34m\u001b[0m\u001b[0;34m\u001b[0m\u001b[0m\n\u001b[0m\u001b[1;32m   1389\u001b[0m \u001b[0;34m\u001b[0m\u001b[0m\n\u001b[1;32m   1390\u001b[0m         \u001b[0;32mif\u001b[0m \u001b[0mself\u001b[0m\u001b[0;34m.\u001b[0m\u001b[0mbinary\u001b[0m\u001b[0;34m:\u001b[0m\u001b[0;34m\u001b[0m\u001b[0;34m\u001b[0m\u001b[0m\n",
            "\u001b[0;32m/usr/local/lib/python3.10/dist-packages/sklearn/feature_extraction/text.py\u001b[0m in \u001b[0;36m_count_vocab\u001b[0;34m(self, raw_documents, fixed_vocab)\u001b[0m\n\u001b[1;32m   1285\u001b[0m \u001b[0;34m\u001b[0m\u001b[0m\n\u001b[1;32m   1286\u001b[0m             \u001b[0mj_indices\u001b[0m\u001b[0;34m.\u001b[0m\u001b[0mextend\u001b[0m\u001b[0;34m(\u001b[0m\u001b[0mfeature_counter\u001b[0m\u001b[0;34m.\u001b[0m\u001b[0mkeys\u001b[0m\u001b[0;34m(\u001b[0m\u001b[0;34m)\u001b[0m\u001b[0;34m)\u001b[0m\u001b[0;34m\u001b[0m\u001b[0;34m\u001b[0m\u001b[0m\n\u001b[0;32m-> 1287\u001b[0;31m             \u001b[0mvalues\u001b[0m\u001b[0;34m.\u001b[0m\u001b[0mextend\u001b[0m\u001b[0;34m(\u001b[0m\u001b[0mfeature_counter\u001b[0m\u001b[0;34m.\u001b[0m\u001b[0mvalues\u001b[0m\u001b[0;34m(\u001b[0m\u001b[0;34m)\u001b[0m\u001b[0;34m)\u001b[0m\u001b[0;34m\u001b[0m\u001b[0;34m\u001b[0m\u001b[0m\n\u001b[0m\u001b[1;32m   1288\u001b[0m             \u001b[0mindptr\u001b[0m\u001b[0;34m.\u001b[0m\u001b[0mappend\u001b[0m\u001b[0;34m(\u001b[0m\u001b[0mlen\u001b[0m\u001b[0;34m(\u001b[0m\u001b[0mj_indices\u001b[0m\u001b[0;34m)\u001b[0m\u001b[0;34m)\u001b[0m\u001b[0;34m\u001b[0m\u001b[0;34m\u001b[0m\u001b[0m\n\u001b[1;32m   1289\u001b[0m \u001b[0;34m\u001b[0m\u001b[0m\n",
            "\u001b[0;31mKeyboardInterrupt\u001b[0m: "
          ]
        }
      ],
      "source": [
        "# importing the appropriate modules\n",
        "import pandas as pd\n",
        "import seaborn as sns\n",
        "from sklearn.model_selection import train_test_split\n",
        "from sklearn.feature_extraction.text import TfidfVectorizer\n",
        "from sklearn.linear_model import LogisticRegression\n",
        "from sklearn.metrics import roc_auc_score, confusion_matrix, balanced_accuracy_score\n",
        "from sklearn.pipeline import Pipeline\n",
        "\n",
        "# loading the dataset\n",
        "df = pd.read_csv('sample_data/masterDataset_imbalanced.csv')\n",
        "\n",
        "# combining the subject and body into a single text feature for better context\n",
        "df['text'] = df['Subject'].fillna('') + \" \" + df['Body'].fillna('')  # Fill NaN with empty string\n",
        "\n",
        "# defining the feature and target variable\n",
        "X = df['text']\n",
        "y = df['label']\n",
        "\n",
        "# splitting the data into training and test sets (sequester 10% of the data for final validation)\n",
        "X_train, X_test, y_train, y_test = train_test_split(X, y, test_size=0.1, random_state=42)\n",
        "\n",
        "# creating a pipeline with TF-IDF Vectorizer and Logistic Regression\n",
        "pipeline = Pipeline([\n",
        "    ('tfidf', TfidfVectorizer(stop_words='english')),\n",
        "    ('classifier', LogisticRegression(random_state=42))\n",
        "])\n",
        "\n",
        "# training the model\n",
        "pipeline.fit(X_train, y_train)\n",
        "\n",
        "# predicting on the test data\n",
        "y_pred = pipeline.predict(X_test)\n",
        "y_pred_prob = pipeline.predict_proba(X_test)[:, 1]\n",
        "\n",
        "# evaluating the model\n",
        "auc = roc_auc_score(y_test, y_pred_prob)\n",
        "cm = confusion_matrix(y_test, y_pred)\n",
        "balanced_acc = balanced_accuracy_score(y_test, y_pred)\n",
        "f1 = f1_score(y_test, y_pred)\n",
        "\n",
        "print(\"Confusion Matrix:\")\n",
        "print(cm)\n",
        "print(\"\\nAUC Score:\", auc)\n",
        "print(\"Balanced Accuracy Score:\", balanced_acc)\n",
        "print(\"F1 Score:\", f1)"
      ]
    },
    {
      "cell_type": "markdown",
      "id": "211b6f42",
      "metadata": {
        "id": "211b6f42"
      },
      "source": [
        "## Best Threshold"
      ]
    },
    {
      "cell_type": "code",
      "execution_count": null,
      "id": "ab3176ae-32f2-4027-a8ff-2749768588d6",
      "metadata": {
        "id": "ab3176ae-32f2-4027-a8ff-2749768588d6"
      },
      "outputs": [],
      "source": [
        "import numpy as np\n",
        "import seaborn as sns\n",
        "from sklearn.metrics import f1_score, precision_score, recall_score\n",
        "import matplotlib.pyplot as plt\n",
        "\n",
        "# define a range of thresholds\n",
        "thresholds = np.arange(0.0, 1.0, 0.01)\n",
        "\n",
        "# initialize variables to store the best threshold and the best F1 score\n",
        "best_threshold = 0.0\n",
        "best_f1 = 0.0\n",
        "\n",
        "# initialize lists to store metrics for each threshold\n",
        "f1_scores = []\n",
        "precision_scores = []\n",
        "recall_scores = []\n",
        "balanced_acc_scores = []\n",
        "\n",
        "# iterate over thresholds to calculate metrics\n",
        "for threshold in thresholds:\n",
        "    y_pred_custom = (y_pred_prob >= threshold).astype(int)\n",
        "    f1 = f1_score(y_test, y_pred_custom)\n",
        "    precision = precision_score(y_test, y_pred_custom)\n",
        "    recall = recall_score(y_test, y_pred_custom)\n",
        "    balanced_acc = balanced_accuracy_score(y_test, y_pred_custom)\n",
        "\n",
        "    f1_scores.append(f1)\n",
        "    precision_scores.append(precision)\n",
        "    recall_scores.append(recall)\n",
        "    balanced_acc_scores.append(balanced_acc)\n",
        "\n",
        "    if f1 > best_f1:\n",
        "        best_f1 = f1\n",
        "        best_threshold = threshold\n",
        "\n",
        "# evaluate the model with the best threshold\n",
        "y_pred_best = (y_pred_prob >= best_threshold).astype(int)\n",
        "auc = roc_auc_score(y_test, y_pred_prob)\n",
        "cm = confusion_matrix(y_test, y_pred_best)\n",
        "balanced_acc = balanced_accuracy_score(y_test, y_pred_best)\n",
        "\n",
        "print(\"Best Threshold:\", best_threshold)\n",
        "print(\"Confusion Matrix at Best Threshold:\")\n",
        "print(cm)\n",
        "print(\"Confusion Matrix:\")\n",
        "print(cm)\n",
        "plt.figure(figsize=(4, 4))\n",
        "sns.heatmap(cm, annot=True, fmt='d', cmap='Blues', cbar=False,\n",
        "              xticklabels=['FP', 'TP'],\n",
        "            yticklabels=['TF', 'FN'])\n",
        "plt.xlabel('Predicted')\n",
        "plt.ylabel('Actual')\n",
        "plt.title('Confusion Matrix')\n",
        "plt.show()\n",
        "print(\"\\nAUC Score:\", auc)\n",
        "print(\"Balanced Accuracy Score:\", balanced_acc)\n",
        "print(\"Best F1 Score:\", best_f1)\n",
        "\n",
        "# show trend in the figure\n",
        "plt.figure(figsize=(10, 8))\n",
        "\n",
        "plt.plot(thresholds, f1_scores, label='F1 Score', marker='o')\n",
        "plt.plot(thresholds, precision_scores, label='Precision', marker='x')\n",
        "plt.plot(thresholds, recall_scores, label='Recall', marker='s')\n",
        "plt.plot(thresholds, balanced_acc_scores, label='Balanced Accuracy', marker='d')\n",
        "plt.vlines(best_threshold, 0, 1.0, label=\"Best Threshold\")\n",
        "\n",
        "\n",
        "plt.xlabel('Threshold')\n",
        "plt.ylabel('Score')\n",
        "plt.title('Metrics vs. Threshold')\n",
        "plt.legend()\n",
        "plt.grid(True)\n",
        "plt.show()"
      ]
    },
    {
      "cell_type": "markdown",
      "id": "0511f3cc-96de-44ba-ac01-8941727cdb95",
      "metadata": {
        "id": "0511f3cc-96de-44ba-ac01-8941727cdb95"
      },
      "source": [
        "# V2: New balanced dataset"
      ]
    },
    {
      "cell_type": "code",
      "execution_count": 49,
      "id": "15792e19-b57a-4701-b468-5d64cc9485ae",
      "metadata": {
        "id": "15792e19-b57a-4701-b468-5d64cc9485ae",
        "colab": {
          "base_uri": "https://localhost:8080/"
        },
        "outputId": "106248ad-0e37-4781-b188-41cb30d2611c"
      },
      "outputs": [
        {
          "output_type": "stream",
          "name": "stdout",
          "text": [
            "Confusion Matrix:\n",
            "[[511   3]\n",
            " [ 22 236]]\n",
            "AUC Score: 0.9965764787500377\n",
            "Balanced Accuracy Score: 0.9544460531475281\n",
            "F1 Score: 0.9496981891348089\n"
          ]
        }
      ],
      "source": [
        "# importing the appropriate modules\n",
        "import pandas as pd\n",
        "import seaborn as sns\n",
        "from sklearn.model_selection import train_test_split\n",
        "from sklearn.feature_extraction.text import TfidfVectorizer\n",
        "from sklearn.linear_model import LogisticRegression\n",
        "from sklearn.metrics import roc_auc_score, confusion_matrix, balanced_accuracy_score, f1_score\n",
        "from sklearn.pipeline import Pipeline\n",
        "\n",
        "# loading the dataset\n",
        "df = pd.read_csv('sample_data/masterDataset.csv')\n",
        "df.head()\n",
        "\n",
        "# combining the subject and body into a single text feature for better context\n",
        "df['text'] = df['Subject'].fillna('') + \" \" + df['Body'].fillna('')  # Fill NaN with empty string\n",
        "\n",
        "# defining the feature and target variable\n",
        "X = df['text']\n",
        "y = df['label']\n",
        "\n",
        "# splitting the data into training and test sets (sequester 10% of the data for final validation)\n",
        "X_train, X_test, y_train, y_test = train_test_split(X, y, test_size=0.1, random_state=42)\n",
        "\n",
        "# creating a pipeline with TF-IDF Vectorizer and Logistic Regression\n",
        "pipeline = Pipeline([\n",
        "    ('tfidf', TfidfVectorizer(stop_words='english')),\n",
        "    ('classifier', LogisticRegression(random_state=42))\n",
        "])\n",
        "\n",
        "# training the model\n",
        "pipeline.fit(X_train, y_train)\n",
        "\n",
        "# predicting on the test data\n",
        "y_pred = pipeline.predict(X_test)\n",
        "y_pred_prob = pipeline.predict_proba(X_test)[:, 1]\n",
        "\n",
        "# evaluating the model\n",
        "auc = roc_auc_score(y_test, y_pred_prob)\n",
        "cm = confusion_matrix(y_test, y_pred)\n",
        "balanced_acc = balanced_accuracy_score(y_test, y_pred)\n",
        "f1 = f1_score(y_test, y_pred)\n",
        "\n",
        "print(\"Confusion Matrix:\")\n",
        "print(cm)\n",
        "print(\"AUC Score:\", auc)\n",
        "print(\"Balanced Accuracy Score:\", balanced_acc)\n",
        "print(\"F1 Score:\", f1)"
      ]
    },
    {
      "cell_type": "markdown",
      "id": "e7883819-6c07-46cf-b661-b2ffab02d834",
      "metadata": {
        "id": "e7883819-6c07-46cf-b661-b2ffab02d834"
      },
      "source": [
        "## Best Threshold"
      ]
    },
    {
      "cell_type": "code",
      "execution_count": 50,
      "id": "96f2e723-a1c0-42a3-b671-8ee13b34203c",
      "metadata": {
        "id": "96f2e723-a1c0-42a3-b671-8ee13b34203c",
        "colab": {
          "base_uri": "https://localhost:8080/",
          "height": 549
        },
        "outputId": "1acdbabc-519d-4077-81f5-1d4bae348bf0"
      },
      "outputs": [
        {
          "output_type": "stream",
          "name": "stdout",
          "text": [
            "Best Threshold: 0.35000000000000003\n",
            "Confusion Matrix at Best Threshold:\n",
            "[[503  11]\n",
            " [ 10 248]]\n"
          ]
        },
        {
          "output_type": "display_data",
          "data": {
            "text/plain": [
              "<Figure size 400x400 with 1 Axes>"
            ],
            "image/png": "[encoded data removed]"
          },
          "metadata": {}
        },
        {
          "output_type": "stream",
          "name": "stdout",
          "text": [
            "\n",
            "AUC Score: 0.9965764787500377\n",
            "Balanced Accuracy Score: 0.9699197659337013\n",
            "Best F1 Score: 0.9593810444874276\n"
          ]
        }
      ],
      "source": [
        "best_threshold_selection(y_pred_prob, y_test)"
      ]
    },
    {
      "cell_type": "markdown",
      "id": "32e14a6d-5e2a-4c29-ac48-f11c534d40b0",
      "metadata": {
        "id": "32e14a6d-5e2a-4c29-ac48-f11c534d40b0"
      },
      "source": [
        "# V3: Dataset with validation set (TF-IDF)"
      ]
    },
    {
      "cell_type": "code",
      "execution_count": 35,
      "id": "aBUbGR1DyRHu",
      "metadata": {
        "id": "aBUbGR1DyRHu",
        "colab": {
          "base_uri": "https://localhost:8080/"
        },
        "outputId": "d36e8dae-667b-4b03-b108-aa5b339c07cb"
      },
      "outputs": [
        {
          "output_type": "stream",
          "name": "stdout",
          "text": [
            "V3 Original Report\n",
            "\n",
            "Confusion Matrix:\n",
            "[[761   2]\n",
            " [ 40 354]]\n",
            "\n",
            "AUC Score: 0.9970161864401141\n",
            "Balanced Accuracy Score: 0.947927962690688\n",
            "F1 Score: 0.944\n"
          ]
        }
      ],
      "source": [
        "# #loading the training and testing datasets\n",
        "train_df = pd.read_csv('sample_data/trainData.csv')\n",
        "test_df = pd.read_csv('sample_data/testData.csv')\n",
        "valid_df = pd.read_csv('sample_data/validationData.csv')\n",
        "\n",
        "# train_df = pd.read_csv('trainData.csv')\n",
        "# test_df = pd.read_csv('testData.csv')\n",
        "# valid_df = pd.read_csv('validationData.csv')\n",
        "\n",
        "\n",
        "# combining the subject and body into a single text feature for better context in both datasets\n",
        "train_df['text'] = train_df['Subject'].fillna('') + \" \" + train_df['Body'].fillna('')  # Fill NaN with empty string\n",
        "test_df['text'] = test_df['Subject'].fillna('') + \" \" + test_df['Body'].fillna('')  # Fill NaN with empty string\n",
        "valid_df['text'] = valid_df['Subject'].fillna('') + \" \" + valid_df['Body'].fillna('')  # Fill NaN with empty string\n",
        "\n",
        "# defining the feature and target variable for training and testing\n",
        "X_train = train_df['text']\n",
        "y_train = train_df['label']\n",
        "X_test = test_df['text']\n",
        "y_test = test_df['label']\n",
        "X_valid = valid_df['text']\n",
        "y_valid = valid_df['label']\n",
        "\n",
        "# creating a pipeline with TF-IDF Vectorizer and Logistic Regression\n",
        "pipeline = Pipeline([\n",
        "    ('tfidf', TfidfVectorizer(stop_words='english')),\n",
        "    ('classifier', LogisticRegression(random_state=42))\n",
        "])\n",
        "\n",
        "# training the model on the training data\n",
        "pipeline.fit(X_train, y_train)\n",
        "\n",
        "# predicting on the test data\n",
        "y_pred = pipeline.predict(X_test)\n",
        "y_pred_prob = pipeline.predict_proba(X_test)[:, 1]\n",
        "\n",
        "# evaluating the model\n",
        "auc = roc_auc_score(y_test, y_pred_prob)\n",
        "cm = confusion_matrix(y_test, y_pred)\n",
        "balanced_acc = balanced_accuracy_score(y_test, y_pred)\n",
        "f1 = f1_score(y_test, y_pred)\n",
        "\n",
        "print(\"V3 Original Report\\n\")\n",
        "print(\"Confusion Matrix:\")\n",
        "print(cm)\n",
        "print(\"\\nAUC Score:\", auc)\n",
        "print(\"Balanced Accuracy Score:\", balanced_acc)\n",
        "print(\"F1 Score:\", f1)"
      ]
    },
    {
      "cell_type": "markdown",
      "source": [
        "## Cross Validation"
      ],
      "metadata": {
        "id": "e53k5a6f6to7"
      },
      "id": "e53k5a6f6to7"
    },
    {
      "cell_type": "code",
      "execution_count": 36,
      "id": "628a4056-be92-413a-94d4-899206bc15c0",
      "metadata": {
        "colab": {
          "base_uri": "https://localhost:8080/"
        },
        "id": "628a4056-be92-413a-94d4-899206bc15c0",
        "outputId": "6fa9628b-eba6-44de-fc05-60ab549796d4"
      },
      "outputs": [
        {
          "output_type": "stream",
          "name": "stdout",
          "text": [
            "V3 Cross Validation Report\n",
            "\n",
            "Best Parameters: {'classifier__C': 10, 'classifier__penalty': 'l2', 'tfidf__ngram_range': (1, 1)}\n",
            "Best Cross-Validation F1 Score: 0.9591781139062316\n",
            "\n",
            "For Valid Dataset:\n",
            "Cross Validation AUC Scores on Validation Data: [0.99452617 0.99358536 0.99002948 0.98699497 0.99457738]\n",
            "Mean AUC Score on Validation Data: 0.9919426717264515\n",
            "\n",
            "For Test Dataset:\n",
            "Confusion Matrix:\n",
            "[[758   5]\n",
            " [ 22 372]]\n",
            "AUC Score: 0.9975617220296584\n",
            "Balanced Accuracy Score: 0.968804678300324\n",
            "F1 Score: 0.9649805447470817\n"
          ]
        }
      ],
      "source": [
        "print(\"V3 Cross Validation Report\\n\")\n",
        "\n",
        "y_pred_prob_best = cross_validation(pipeline, X_train, y_train, X_test, y_test, X_valid, y_valid, 'tfidf__ngram_range')\n"
      ]
    },
    {
      "cell_type": "markdown",
      "id": "22a6df76-4d0f-4adb-a26b-f4393bb22bdc",
      "metadata": {
        "id": "22a6df76-4d0f-4adb-a26b-f4393bb22bdc"
      },
      "source": [
        "## Best Threshold"
      ]
    },
    {
      "cell_type": "code",
      "execution_count": 37,
      "id": "7ff86cca-f5ea-4611-8913-ed0b103833e7",
      "metadata": {
        "id": "7ff86cca-f5ea-4611-8913-ed0b103833e7",
        "colab": {
          "base_uri": "https://localhost:8080/",
          "height": 566
        },
        "outputId": "31ce8162-91a5-4980-b89f-e7a1016a2f25"
      },
      "outputs": [
        {
          "output_type": "stream",
          "name": "stdout",
          "text": [
            "V3 Best Threshold Report\n",
            "Best Threshold: 0.45\n",
            "Confusion Matrix at Best Threshold:\n",
            "[[758   5]\n",
            " [ 19 375]]\n"
          ]
        },
        {
          "output_type": "display_data",
          "data": {
            "text/plain": [
              "<Figure size 400x400 with 1 Axes>"
            ],
            "image/png": "[encoded data removed]"
          },
          "metadata": {}
        },
        {
          "output_type": "stream",
          "name": "stdout",
          "text": [
            "\n",
            "AUC Score: 0.9975617220296584\n",
            "Balanced Accuracy Score: 0.9726117848993088\n",
            "Best F1 Score: 0.9689922480620156\n"
          ]
        }
      ],
      "source": [
        "print(\"V3 Best Threshold Report\")\n",
        "\n",
        "best_threshold_selection(y_pred_prob_best, y_test)"
      ]
    },
    {
      "cell_type": "markdown",
      "id": "906950b5-7cfa-4f91-9faa-da2638ddf33f",
      "metadata": {
        "id": "906950b5-7cfa-4f91-9faa-da2638ddf33f"
      },
      "source": [
        "# *V4(Error when cross validation): Dataset with validation set (Word2Vec using Spacy)"
      ]
    },
    {
      "cell_type": "code",
      "source": [
        "# Load SpaCy's pre-trained word vectors (make sure you have the model installed)\n",
        "# INSTALL : python -m spacy download en_core_web_md\n",
        "nlp = spacy.load('en_core_web_md', disable=[\"parser\", \"ner\"])"
      ],
      "metadata": {
        "id": "OYtVKCcei6Xe"
      },
      "id": "OYtVKCcei6Xe",
      "execution_count": 26,
      "outputs": []
    },
    {
      "cell_type": "code",
      "source": [
        "# Define a transformer to convert text to Word2Vec embeddings\n",
        "class Word2VecTransformer(BaseEstimator, TransformerMixin):\n",
        "    def __init__(self):\n",
        "        pass\n",
        "\n",
        "    def fit(self, X, y=None):\n",
        "        return self\n",
        "\n",
        "    def transform(self, X, y=None):\n",
        "        try:\n",
        "            docs = list(nlp.pipe(X, disable=[\"parser\", \"ner\"]))\n",
        "            vectors = np.array([self.doc_vector(doc) for doc in docs])\n",
        "            return vectors\n",
        "        except Exception as e:\n",
        "            print(f\"Error during transform: {e}\")\n",
        "            raise\n",
        "\n",
        "    def doc_vector(self, doc):\n",
        "        # Return the vector for a document by averaging the vectors of its words\n",
        "        return doc.vector\n",
        "\n",
        "def make_writable(data):\n",
        "    data = np.array(data, copy=True)\n",
        "    if not data.flags.writeable:\n",
        "        data.flags.writeable = True\n",
        "    return data"
      ],
      "metadata": {
        "id": "ssqPthQrtbiF"
      },
      "id": "ssqPthQrtbiF",
      "execution_count": 31,
      "outputs": []
    },
    {
      "cell_type": "code",
      "execution_count": 32,
      "id": "808cd48c-217b-45a4-8c2e-2cb15a0d89ea",
      "metadata": {
        "id": "808cd48c-217b-45a4-8c2e-2cb15a0d89ea",
        "outputId": "97b4e021-c6b7-480f-b494-78197959f9f7",
        "colab": {
          "base_uri": "https://localhost:8080/"
        }
      },
      "outputs": [
        {
          "output_type": "stream",
          "name": "stdout",
          "text": [
            "V4 Original Report\n",
            "Confusion Matrix:\n",
            "[[733  30]\n",
            " [ 37 357]]\n",
            "AUC Score: 0.9777577821982423\n",
            "Balanced Accuracy Score: 0.9333864454364618\n",
            "F1 Score: 0.9142125480153649\n"
          ]
        }
      ],
      "source": [
        "# Loading the training and testing datasets\n",
        "train_df = pd.read_csv('sample_data/trainData.csv')\n",
        "test_df = pd.read_csv('sample_data/testData.csv')\n",
        "valid_df = pd.read_csv('sample_data/validationData.csv')\n",
        "\n",
        "# Combining the subject and body into a single text feature for better context in both datasets\n",
        "train_df['text'] = train_df['Subject'].fillna('') + \" \" + train_df['Body'].fillna('')  # Fill NaN with empty string\n",
        "test_df['text'] = test_df['Subject'].fillna('') + \" \" + test_df['Body'].fillna('')  # Fill NaN with empty string\n",
        "valid_df['text'] = valid_df['Subject'].fillna('') + \" \" + valid_df['Body'].fillna('')  # Fill NaN with empty string\n",
        "\n",
        "# Defining the feature and target variable for training and testing\n",
        "X_train = train_df['text']\n",
        "y_train = train_df['label']\n",
        "X_test = test_df['text']\n",
        "y_test = test_df['label']\n",
        "X_valid = valid_df['text']\n",
        "y_valid = valid_df['label']\n",
        "# X_train = make_writable(train_df['text'])\n",
        "# y_train = train_df['label']\n",
        "# X_test = make_writable(test_df['text'])\n",
        "# y_test = test_df['label']\n",
        "# X_valid = make_writable(valid_df['text'])\n",
        "# y_valid = valid_df['label']\n",
        "\n",
        "# Creating a pipeline with Word2VecTransformer and Logistic Regression\n",
        "pipeline = Pipeline([\n",
        "    ('word2vec', Word2VecTransformer()),\n",
        "    ('classifier', LogisticRegression(random_state=42, max_iter=500))\n",
        "])\n",
        "\n",
        "# Training the model on the training data\n",
        "pipeline.fit(X_train, y_train)\n",
        "\n",
        "# Predicting on the test data\n",
        "y_pred = pipeline.predict(X_test)\n",
        "y_pred_prob = pipeline.predict_proba(X_test)[:, 1]\n",
        "\n",
        "# Evaluating the model\n",
        "auc = roc_auc_score(y_test, y_pred_prob)\n",
        "cm = confusion_matrix(y_test, y_pred)\n",
        "\n",
        "balanced_acc = balanced_accuracy_score(y_test, y_pred)\n",
        "f1 = f1_score(y_test, y_pred)\n",
        "\n",
        "print(\"V4 Original Report\")\n",
        "print(\"Confusion Matrix:\")\n",
        "print(cm)\n",
        "print(\"AUC Score:\", auc)\n",
        "print(\"Balanced Accuracy Score:\", balanced_acc)\n",
        "print(\"F1 Score:\", f1)\n"
      ]
    },
    {
      "cell_type": "markdown",
      "id": "ac3def1f-e3a6-4cfa-b8d4-e5cd359b1db6",
      "metadata": {
        "id": "ac3def1f-e3a6-4cfa-b8d4-e5cd359b1db6"
      },
      "source": [
        "## Cross Validation"
      ]
    },
    {
      "cell_type": "code",
      "execution_count": 33,
      "id": "b7370431-2aa2-4074-9cd5-a4f5795fd767",
      "metadata": {
        "id": "b7370431-2aa2-4074-9cd5-a4f5795fd767",
        "colab": {
          "base_uri": "https://localhost:8080/",
          "height": 1000
        },
        "outputId": "bc10e65f-3c4d-4e12-efec-59ed42b1e7fb"
      },
      "outputs": [
        {
          "output_type": "stream",
          "name": "stdout",
          "text": [
            "V4 Cross Validation Report\n"
          ]
        },
        {
          "output_type": "error",
          "ename": "ValueError",
          "evalue": "\nAll the 30 fits failed.\nIt is very likely that your model is misconfigured.\nYou can try to debug the error by setting error_score='raise'.\n\nBelow are more details about the failures:\n--------------------------------------------------------------------------------\n30 fits failed with the following error:\nTraceback (most recent call last):\n  File \"/usr/local/lib/python3.10/dist-packages/sklearn/model_selection/_validation.py\", line 686, in _fit_and_score\n    estimator.fit(X_train, y_train, **fit_params)\n  File \"/usr/local/lib/python3.10/dist-packages/sklearn/pipeline.py\", line 401, in fit\n    Xt = self._fit(X, y, **fit_params_steps)\n  File \"/usr/local/lib/python3.10/dist-packages/sklearn/pipeline.py\", line 359, in _fit\n    X, fitted_transformer = fit_transform_one_cached(\n  File \"/usr/local/lib/python3.10/dist-packages/joblib/memory.py\", line 312, in __call__\n    return self.func(*args, **kwargs)\n  File \"/usr/local/lib/python3.10/dist-packages/sklearn/pipeline.py\", line 893, in _fit_transform_one\n    res = transformer.fit_transform(X, y, **fit_params)\n  File \"/usr/local/lib/python3.10/dist-packages/sklearn/utils/_set_output.py\", line 140, in wrapped\n    data_to_wrap = f(self, X, *args, **kwargs)\n  File \"/usr/local/lib/python3.10/dist-packages/sklearn/base.py\", line 881, in fit_transform\n    return self.fit(X, y, **fit_params).transform(X)\n  File \"/usr/local/lib/python3.10/dist-packages/sklearn/utils/_set_output.py\", line 140, in wrapped\n    data_to_wrap = f(self, X, *args, **kwargs)\n  File \"<ipython-input-31-30f467379b90>\", line 11, in transform\n  File \"/usr/local/lib/python3.10/dist-packages/spacy/language.py\", line 1618, in pipe\n    for doc in docs:\n  File \"/usr/local/lib/python3.10/dist-packages/spacy/util.py\", line 1703, in _pipe\n    yield from proc.pipe(docs, **kwargs)\n  File \"spacy/pipeline/pipe.pyx\", line 55, in pipe\n  File \"/usr/local/lib/python3.10/dist-packages/spacy/util.py\", line 1703, in _pipe\n    yield from proc.pipe(docs, **kwargs)\n  File \"spacy/pipeline/pipe.pyx\", line 55, in pipe\n  File \"/usr/local/lib/python3.10/dist-packages/spacy/util.py\", line 1703, in _pipe\n    yield from proc.pipe(docs, **kwargs)\n  File \"spacy/pipeline/trainable_pipe.pyx\", line 73, in pipe\n  File \"/usr/local/lib/python3.10/dist-packages/spacy/util.py\", line 1650, in minibatch\n    batch = list(itertools.islice(items, int(batch_size)))\n  File \"/usr/local/lib/python3.10/dist-packages/spacy/util.py\", line 1703, in _pipe\n    yield from proc.pipe(docs, **kwargs)\n  File \"spacy/pipeline/trainable_pipe.pyx\", line 79, in pipe\n  File \"/usr/local/lib/python3.10/dist-packages/spacy/util.py\", line 1722, in raise_error\n    raise e\n  File \"spacy/pipeline/trainable_pipe.pyx\", line 75, in spacy.pipeline.trainable_pipe.TrainablePipe.pipe\n  File \"/usr/local/lib/python3.10/dist-packages/spacy/pipeline/tok2vec.py\", line 126, in predict\n    tokvecs = self.model.predict(docs)\n  File \"/usr/local/lib/python3.10/dist-packages/thinc/model.py\", line 334, in predict\n    return self._func(self, X, is_train=False)[0]\n  File \"/usr/local/lib/python3.10/dist-packages/thinc/layers/chain.py\", line 54, in forward\n    Y, inc_layer_grad = layer(X, is_train=is_train)\n  File \"/usr/local/lib/python3.10/dist-packages/thinc/model.py\", line 310, in __call__\n    return self._func(self, X, is_train=is_train)\n  File \"/usr/local/lib/python3.10/dist-packages/thinc/layers/chain.py\", line 54, in forward\n    Y, inc_layer_grad = layer(X, is_train=is_train)\n  File \"/usr/local/lib/python3.10/dist-packages/thinc/model.py\", line 310, in __call__\n    return self._func(self, X, is_train=is_train)\n  File \"/usr/local/lib/python3.10/dist-packages/thinc/layers/concatenate.py\", line 57, in forward\n    Ys, callbacks = zip(*[layer(X, is_train=is_train) for layer in model.layers])\n  File \"/usr/local/lib/python3.10/dist-packages/thinc/layers/concatenate.py\", line 57, in <listcomp>\n    Ys, callbacks = zip(*[layer(X, is_train=is_train) for layer in model.layers])\n  File \"/usr/local/lib/python3.10/dist-packages/thinc/model.py\", line 310, in __call__\n    return self._func(self, X, is_train=is_train)\n  File \"/usr/local/lib/python3.10/dist-packages/thinc/layers/chain.py\", line 54, in forward\n    Y, inc_layer_grad = layer(X, is_train=is_train)\n  File \"/usr/local/lib/python3.10/dist-packages/thinc/model.py\", line 310, in __call__\n    return self._func(self, X, is_train=is_train)\n  File \"/usr/local/lib/python3.10/dist-packages/thinc/layers/with_array.py\", line 36, in forward\n    return cast(Tuple[SeqT, Callable], _ragged_forward(model, Xseq, is_train))\n  File \"/usr/local/lib/python3.10/dist-packages/thinc/layers/with_array.py\", line 91, in _ragged_forward\n    Y, get_dX = layer(Xr.dataXd, is_train)\n  File \"/usr/local/lib/python3.10/dist-packages/thinc/model.py\", line 310, in __call__\n    return self._func(self, X, is_train=is_train)\n  File \"/usr/local/lib/python3.10/dist-packages/thinc/layers/concatenate.py\", line 57, in forward\n    Ys, callbacks = zip(*[layer(X, is_train=is_train) for layer in model.layers])\n  File \"/usr/local/lib/python3.10/dist-packages/thinc/layers/concatenate.py\", line 57, in <listcomp>\n    Ys, callbacks = zip(*[layer(X, is_train=is_train) for layer in model.layers])\n  File \"/usr/local/lib/python3.10/dist-packages/thinc/model.py\", line 310, in __call__\n    return self._func(self, X, is_train=is_train)\n  File \"/usr/local/lib/python3.10/dist-packages/thinc/layers/chain.py\", line 54, in forward\n    Y, inc_layer_grad = layer(X, is_train=is_train)\n  File \"/usr/local/lib/python3.10/dist-packages/thinc/model.py\", line 310, in __call__\n    return self._func(self, X, is_train=is_train)\n  File \"/usr/local/lib/python3.10/dist-packages/thinc/layers/hashembed.py\", line 72, in forward\n    output = model.ops.gather_add(vectors, keys)\n  File \"thinc/backends/numpy_ops.pyx\", line 460, in thinc.backends.numpy_ops.NumpyOps.gather_add\n  File \"stringsource\", line 660, in View.MemoryView.memoryview_cwrapper\n  File \"stringsource\", line 350, in View.MemoryView.memoryview.__cinit__\nValueError: buffer source array is read-only\n",
          "traceback": [
            "\u001b[0;31m---------------------------------------------------------------------------\u001b[0m",
            "\u001b[0;31mValueError\u001b[0m                                Traceback (most recent call last)",
            "\u001b[0;32m<ipython-input-33-05320660b013>\u001b[0m in \u001b[0;36m<cell line: 3>\u001b[0;34m()\u001b[0m\n\u001b[1;32m      1\u001b[0m \u001b[0mprint\u001b[0m\u001b[0;34m(\u001b[0m\u001b[0;34m\"V4 Cross Validation Report\"\u001b[0m\u001b[0;34m)\u001b[0m\u001b[0;34m\u001b[0m\u001b[0;34m\u001b[0m\u001b[0m\n\u001b[1;32m      2\u001b[0m \u001b[0;34m\u001b[0m\u001b[0m\n\u001b[0;32m----> 3\u001b[0;31m \u001b[0my_pred_prob_best\u001b[0m \u001b[0;34m=\u001b[0m \u001b[0mcross_validation\u001b[0m\u001b[0;34m(\u001b[0m\u001b[0mpipeline\u001b[0m\u001b[0;34m,\u001b[0m \u001b[0mX_train\u001b[0m\u001b[0;34m,\u001b[0m \u001b[0my_train\u001b[0m\u001b[0;34m,\u001b[0m \u001b[0mX_test\u001b[0m\u001b[0;34m,\u001b[0m \u001b[0my_test\u001b[0m\u001b[0;34m,\u001b[0m \u001b[0mX_valid\u001b[0m\u001b[0;34m,\u001b[0m \u001b[0my_valid\u001b[0m\u001b[0;34m,\u001b[0m \u001b[0;34m'classifier__solver'\u001b[0m\u001b[0;34m)\u001b[0m\u001b[0;34m\u001b[0m\u001b[0;34m\u001b[0m\u001b[0m\n\u001b[0m\u001b[1;32m      4\u001b[0m \u001b[0;34m\u001b[0m\u001b[0m\n\u001b[1;32m      5\u001b[0m \u001b[0;31m# # Creating the pipeline with Count Vectorizer and Logistic Regression\u001b[0m\u001b[0;34m\u001b[0m\u001b[0;34m\u001b[0m\u001b[0m\n",
            "\u001b[0;32m<ipython-input-21-cddaae0be3f5>\u001b[0m in \u001b[0;36mcross_validation\u001b[0;34m(pipeline, X_train, y_train, X_test, y_test, X_valid, y_valid, range_name)\u001b[0m\n\u001b[1;32m     23\u001b[0m \u001b[0;34m\u001b[0m\u001b[0m\n\u001b[1;32m     24\u001b[0m   \u001b[0;31m# Fitting the model using grid search with validation set\u001b[0m\u001b[0;34m\u001b[0m\u001b[0;34m\u001b[0m\u001b[0m\n\u001b[0;32m---> 25\u001b[0;31m   \u001b[0mgrid_search\u001b[0m\u001b[0;34m.\u001b[0m\u001b[0mfit\u001b[0m\u001b[0;34m(\u001b[0m\u001b[0mX_train\u001b[0m\u001b[0;34m,\u001b[0m \u001b[0my_train\u001b[0m\u001b[0;34m)\u001b[0m\u001b[0;34m\u001b[0m\u001b[0;34m\u001b[0m\u001b[0m\n\u001b[0m\u001b[1;32m     26\u001b[0m \u001b[0;34m\u001b[0m\u001b[0m\n\u001b[1;32m     27\u001b[0m   \u001b[0;31m# Best parameters and best score\u001b[0m\u001b[0;34m\u001b[0m\u001b[0;34m\u001b[0m\u001b[0m\n",
            "\u001b[0;32m/usr/local/lib/python3.10/dist-packages/sklearn/model_selection/_search.py\u001b[0m in \u001b[0;36mfit\u001b[0;34m(self, X, y, groups, **fit_params)\u001b[0m\n\u001b[1;32m    872\u001b[0m                 \u001b[0;32mreturn\u001b[0m \u001b[0mresults\u001b[0m\u001b[0;34m\u001b[0m\u001b[0;34m\u001b[0m\u001b[0m\n\u001b[1;32m    873\u001b[0m \u001b[0;34m\u001b[0m\u001b[0m\n\u001b[0;32m--> 874\u001b[0;31m             \u001b[0mself\u001b[0m\u001b[0;34m.\u001b[0m\u001b[0m_run_search\u001b[0m\u001b[0;34m(\u001b[0m\u001b[0mevaluate_candidates\u001b[0m\u001b[0;34m)\u001b[0m\u001b[0;34m\u001b[0m\u001b[0;34m\u001b[0m\u001b[0m\n\u001b[0m\u001b[1;32m    875\u001b[0m \u001b[0;34m\u001b[0m\u001b[0m\n\u001b[1;32m    876\u001b[0m             \u001b[0;31m# multimetric is determined here because in the case of a callable\u001b[0m\u001b[0;34m\u001b[0m\u001b[0;34m\u001b[0m\u001b[0m\n",
            "\u001b[0;32m/usr/local/lib/python3.10/dist-packages/sklearn/model_selection/_search.py\u001b[0m in \u001b[0;36m_run_search\u001b[0;34m(self, evaluate_candidates)\u001b[0m\n\u001b[1;32m   1386\u001b[0m     \u001b[0;32mdef\u001b[0m \u001b[0m_run_search\u001b[0m\u001b[0;34m(\u001b[0m\u001b[0mself\u001b[0m\u001b[0;34m,\u001b[0m \u001b[0mevaluate_candidates\u001b[0m\u001b[0;34m)\u001b[0m\u001b[0;34m:\u001b[0m\u001b[0;34m\u001b[0m\u001b[0;34m\u001b[0m\u001b[0m\n\u001b[1;32m   1387\u001b[0m         \u001b[0;34m\"\"\"Search all candidates in param_grid\"\"\"\u001b[0m\u001b[0;34m\u001b[0m\u001b[0;34m\u001b[0m\u001b[0m\n\u001b[0;32m-> 1388\u001b[0;31m         \u001b[0mevaluate_candidates\u001b[0m\u001b[0;34m(\u001b[0m\u001b[0mParameterGrid\u001b[0m\u001b[0;34m(\u001b[0m\u001b[0mself\u001b[0m\u001b[0;34m.\u001b[0m\u001b[0mparam_grid\u001b[0m\u001b[0;34m)\u001b[0m\u001b[0;34m)\u001b[0m\u001b[0;34m\u001b[0m\u001b[0;34m\u001b[0m\u001b[0m\n\u001b[0m\u001b[1;32m   1389\u001b[0m \u001b[0;34m\u001b[0m\u001b[0m\n\u001b[1;32m   1390\u001b[0m \u001b[0;34m\u001b[0m\u001b[0m\n",
            "\u001b[0;32m/usr/local/lib/python3.10/dist-packages/sklearn/model_selection/_search.py\u001b[0m in \u001b[0;36mevaluate_candidates\u001b[0;34m(candidate_params, cv, more_results)\u001b[0m\n\u001b[1;32m    849\u001b[0m                     )\n\u001b[1;32m    850\u001b[0m \u001b[0;34m\u001b[0m\u001b[0m\n\u001b[0;32m--> 851\u001b[0;31m                 \u001b[0m_warn_or_raise_about_fit_failures\u001b[0m\u001b[0;34m(\u001b[0m\u001b[0mout\u001b[0m\u001b[0;34m,\u001b[0m \u001b[0mself\u001b[0m\u001b[0;34m.\u001b[0m\u001b[0merror_score\u001b[0m\u001b[0;34m)\u001b[0m\u001b[0;34m\u001b[0m\u001b[0;34m\u001b[0m\u001b[0m\n\u001b[0m\u001b[1;32m    852\u001b[0m \u001b[0;34m\u001b[0m\u001b[0m\n\u001b[1;32m    853\u001b[0m                 \u001b[0;31m# For callable self.scoring, the return type is only know after\u001b[0m\u001b[0;34m\u001b[0m\u001b[0;34m\u001b[0m\u001b[0m\n",
            "\u001b[0;32m/usr/local/lib/python3.10/dist-packages/sklearn/model_selection/_validation.py\u001b[0m in \u001b[0;36m_warn_or_raise_about_fit_failures\u001b[0;34m(results, error_score)\u001b[0m\n\u001b[1;32m    365\u001b[0m                 \u001b[0;34mf\"Below are more details about the failures:\\n{fit_errors_summary}\"\u001b[0m\u001b[0;34m\u001b[0m\u001b[0;34m\u001b[0m\u001b[0m\n\u001b[1;32m    366\u001b[0m             )\n\u001b[0;32m--> 367\u001b[0;31m             \u001b[0;32mraise\u001b[0m \u001b[0mValueError\u001b[0m\u001b[0;34m(\u001b[0m\u001b[0mall_fits_failed_message\u001b[0m\u001b[0;34m)\u001b[0m\u001b[0;34m\u001b[0m\u001b[0;34m\u001b[0m\u001b[0m\n\u001b[0m\u001b[1;32m    368\u001b[0m \u001b[0;34m\u001b[0m\u001b[0m\n\u001b[1;32m    369\u001b[0m         \u001b[0;32melse\u001b[0m\u001b[0;34m:\u001b[0m\u001b[0;34m\u001b[0m\u001b[0;34m\u001b[0m\u001b[0m\n",
            "\u001b[0;31mValueError\u001b[0m: \nAll the 30 fits failed.\nIt is very likely that your model is misconfigured.\nYou can try to debug the error by setting error_score='raise'.\n\nBelow are more details about the failures:\n--------------------------------------------------------------------------------\n30 fits failed with the following error:\nTraceback (most recent call last):\n  File \"/usr/local/lib/python3.10/dist-packages/sklearn/model_selection/_validation.py\", line 686, in _fit_and_score\n    estimator.fit(X_train, y_train, **fit_params)\n  File \"/usr/local/lib/python3.10/dist-packages/sklearn/pipeline.py\", line 401, in fit\n    Xt = self._fit(X, y, **fit_params_steps)\n  File \"/usr/local/lib/python3.10/dist-packages/sklearn/pipeline.py\", line 359, in _fit\n    X, fitted_transformer = fit_transform_one_cached(\n  File \"/usr/local/lib/python3.10/dist-packages/joblib/memory.py\", line 312, in __call__\n    return self.func(*args, **kwargs)\n  File \"/usr/local/lib/python3.10/dist-packages/sklearn/pipeline.py\", line 893, in _fit_transform_one\n    res = transformer.fit_transform(X, y, **fit_params)\n  File \"/usr/local/lib/python3.10/dist-packages/sklearn/utils/_set_output.py\", line 140, in wrapped\n    data_to_wrap = f(self, X, *args, **kwargs)\n  File \"/usr/local/lib/python3.10/dist-packages/sklearn/base.py\", line 881, in fit_transform\n    return self.fit(X, y, **fit_params).transform(X)\n  File \"/usr/local/lib/python3.10/dist-packages/sklearn/utils/_set_output.py\", line 140, in wrapped\n    data_to_wrap = f(self, X, *args, **kwargs)\n  File \"<ipython-input-31-30f467379b90>\", line 11, in transform\n  File \"/usr/local/lib/python3.10/dist-packages/spacy/language.py\", line 1618, in pipe\n    for doc in docs:\n  File \"/usr/local/lib/python3.10/dist-packages/spacy/util.py\", line 1703, in _pipe\n    yield from proc.pipe(docs, **kwargs)\n  File \"spacy/pipeline/pipe.pyx\", line 55, in pipe\n  File \"/usr/local/lib/python3.10/dist-packages/spacy/util.py\", line 1703, in _pipe\n    yield from proc.pipe(docs, **kwargs)\n  File \"spacy/pipeline/pipe.pyx\", line 55, in pipe\n  File \"/usr/local/lib/python3.10/dist-packages/spacy/util.py\", line 1703, in _pipe\n    yield from proc.pipe(docs, **kwargs)\n  File \"spacy/pipeline/trainable_pipe.pyx\", line 73, in pipe\n  File \"/usr/local/lib/python3.10/dist-packages/spacy/util.py\", line 1650, in minibatch\n    batch = list(itertools.islice(items, int(batch_size)))\n  File \"/usr/local/lib/python3.10/dist-packages/spacy/util.py\", line 1703, in _pipe\n    yield from proc.pipe(docs, **kwargs)\n  File \"spacy/pipeline/trainable_pipe.pyx\", line 79, in pipe\n  File \"/usr/local/lib/python3.10/dist-packages/spacy/util.py\", line 1722, in raise_error\n    raise e\n  File \"spacy/pipeline/trainable_pipe.pyx\", line 75, in spacy.pipeline.trainable_pipe.TrainablePipe.pipe\n  File \"/usr/local/lib/python3.10/dist-packages/spacy/pipeline/tok2vec.py\", line 126, in predict\n    tokvecs = self.model.predict(docs)\n  File \"/usr/local/lib/python3.10/dist-packages/thinc/model.py\", line 334, in predict\n    return self._func(self, X, is_train=False)[0]\n  File \"/usr/local/lib/python3.10/dist-packages/thinc/layers/chain.py\", line 54, in forward\n    Y, inc_layer_grad = layer(X, is_train=is_train)\n  File \"/usr/local/lib/python3.10/dist-packages/thinc/model.py\", line 310, in __call__\n    return self._func(self, X, is_train=is_train)\n  File \"/usr/local/lib/python3.10/dist-packages/thinc/layers/chain.py\", line 54, in forward\n    Y, inc_layer_grad = layer(X, is_train=is_train)\n  File \"/usr/local/lib/python3.10/dist-packages/thinc/model.py\", line 310, in __call__\n    return self._func(self, X, is_train=is_train)\n  File \"/usr/local/lib/python3.10/dist-packages/thinc/layers/concatenate.py\", line 57, in forward\n    Ys, callbacks = zip(*[layer(X, is_train=is_train) for layer in model.layers])\n  File \"/usr/local/lib/python3.10/dist-packages/thinc/layers/concatenate.py\", line 57, in <listcomp>\n    Ys, callbacks = zip(*[layer(X, is_train=is_train) for layer in model.layers])\n  File \"/usr/local/lib/python3.10/dist-packages/thinc/model.py\", line 310, in __call__\n    return self._func(self, X, is_train=is_train)\n  File \"/usr/local/lib/python3.10/dist-packages/thinc/layers/chain.py\", line 54, in forward\n    Y, inc_layer_grad = layer(X, is_train=is_train)\n  File \"/usr/local/lib/python3.10/dist-packages/thinc/model.py\", line 310, in __call__\n    return self._func(self, X, is_train=is_train)\n  File \"/usr/local/lib/python3.10/dist-packages/thinc/layers/with_array.py\", line 36, in forward\n    return cast(Tuple[SeqT, Callable], _ragged_forward(model, Xseq, is_train))\n  File \"/usr/local/lib/python3.10/dist-packages/thinc/layers/with_array.py\", line 91, in _ragged_forward\n    Y, get_dX = layer(Xr.dataXd, is_train)\n  File \"/usr/local/lib/python3.10/dist-packages/thinc/model.py\", line 310, in __call__\n    return self._func(self, X, is_train=is_train)\n  File \"/usr/local/lib/python3.10/dist-packages/thinc/layers/concatenate.py\", line 57, in forward\n    Ys, callbacks = zip(*[layer(X, is_train=is_train) for layer in model.layers])\n  File \"/usr/local/lib/python3.10/dist-packages/thinc/layers/concatenate.py\", line 57, in <listcomp>\n    Ys, callbacks = zip(*[layer(X, is_train=is_train) for layer in model.layers])\n  File \"/usr/local/lib/python3.10/dist-packages/thinc/model.py\", line 310, in __call__\n    return self._func(self, X, is_train=is_train)\n  File \"/usr/local/lib/python3.10/dist-packages/thinc/layers/chain.py\", line 54, in forward\n    Y, inc_layer_grad = layer(X, is_train=is_train)\n  File \"/usr/local/lib/python3.10/dist-packages/thinc/model.py\", line 310, in __call__\n    return self._func(self, X, is_train=is_train)\n  File \"/usr/local/lib/python3.10/dist-packages/thinc/layers/hashembed.py\", line 72, in forward\n    output = model.ops.gather_add(vectors, keys)\n  File \"thinc/backends/numpy_ops.pyx\", line 460, in thinc.backends.numpy_ops.NumpyOps.gather_add\n  File \"stringsource\", line 660, in View.MemoryView.memoryview_cwrapper\n  File \"stringsource\", line 350, in View.MemoryView.memoryview.__cinit__\nValueError: buffer source array is read-only\n"
          ]
        }
      ],
      "source": [
        "print(\"V4 Cross Validation Report\")\n",
        "\n",
        "y_pred_prob_best = cross_validation(pipeline, X_train, y_train, X_test, y_test, X_valid, y_valid, 'classifier__solver')\n",
        "\n",
        "# # Creating the pipeline with Count Vectorizer and Logistic Regression\n",
        "# pipeline = Pipeline([\n",
        "#     ('vectorizer', CountVectorizer(stop_words='english')),\n",
        "#     ('classifier', LogisticRegression(random_state=42))\n",
        "# ])\n",
        "\n",
        "# # Defining the cross-validation procedure\n",
        "# cv = StratifiedKFold(n_splits=5, shuffle=True, random_state=42)\n",
        "\n",
        "# # Evaluating the model with cross-validation\n",
        "# cv_scores = cross_val_score(pipeline, X_train, y_train, cv=cv, scoring='f1')\n",
        "# print(\"Cross-Validation F1 Scores:\", cv_scores)\n",
        "# print(\"Mean Cross-Validation F1 Score:\", cv_scores.mean())\n",
        "\n",
        "# # Defining the parameter grid for GridSearchCV\n",
        "# param_grid = {\n",
        "#     'classifier__C': [0.1, 1, 10],\n",
        "#     'classifier__penalty': ['l2'],\n",
        "#     'vectorizer__ngram_range': [(1, 1), (1, 2)],\n",
        "# }\n",
        "\n",
        "# # Creating the GridSearchCV object\n",
        "# grid_search = GridSearchCV(pipeline, param_grid, cv=cv, scoring='f1', n_jobs=-1)\n",
        "\n",
        "# # Fitting the model using grid search with validation set\n",
        "# grid_search.fit(X_train, y_train)\n",
        "\n",
        "# # Best parameters and best score\n",
        "# print(\"Best Parameters:\", grid_search.best_params_)\n",
        "# print(\"Best Cross-Validation F1 Score:\", grid_search.best_score_)\n",
        "\n",
        "# # Using the best estimator to make predictions\n",
        "# best_pipeline = grid_search.best_estimator_\n",
        "\n",
        "# # Predicting on the test data with the best model\n",
        "# y_pred_best = best_pipeline.predict(X_test)\n",
        "# y_pred_prob_best = best_pipeline.predict_proba(X_test)[:, 1]\n",
        "\n",
        "# # Evaluating the best model\n",
        "# auc_best = roc_auc_score(y_test, y_pred_prob_best)\n",
        "# cm_best = confusion_matrix(y_test, y_pred_best)\n",
        "# balanced_acc_best = balanced_accuracy_score(y_test, y_pred_best)\n",
        "# f1_best = f1_score(y_test, y_pred_best)\n",
        "\n",
        "# print(\"Confusion Matrix for Best Model:\")\n",
        "# print(cm_best)\n",
        "# print(\"AUC Score for Best Model:\", auc_best)\n",
        "# print(\"Balanced Accuracy Score for Best Model:\", balanced_acc_best)\n",
        "# print(\"F1 Score for Best Model:\", f1_best)"
      ]
    },
    {
      "cell_type": "markdown",
      "source": [
        "## Best Threshold\n"
      ],
      "metadata": {
        "id": "LWTVYk0E7KXe"
      },
      "id": "LWTVYk0E7KXe"
    },
    {
      "cell_type": "code",
      "source": [
        "print(\"V4 Best Threshold Report\")\n",
        "\n",
        "best_threshold_selection(y_pred_prob_best, y_test)"
      ],
      "metadata": {
        "id": "ytlMwbhb7I1V"
      },
      "id": "ytlMwbhb7I1V",
      "execution_count": null,
      "outputs": []
    },
    {
      "cell_type": "markdown",
      "metadata": {
        "id": "IBoh_4FdzR_r"
      },
      "source": [
        "# V4-2: Dataset with validation set (Word2Vec using Gensim)"
      ],
      "id": "IBoh_4FdzR_r"
    },
    {
      "cell_type": "code",
      "source": [
        "class Word2VecTransformer(BaseEstimator, TransformerMixin):\n",
        "    def __init__(self, vector_size=100, window=5, min_count=1, workers=4):\n",
        "        self.vector_size = vector_size\n",
        "        self.window = window\n",
        "        self.min_count = min_count\n",
        "        self.workers = workers\n",
        "        self.model = None\n",
        "\n",
        "    def fit(self, X, y=None):\n",
        "        tokenized_text = [gensim.utils.simple_preprocess(text) for text in X]\n",
        "        self.model = gensim.models.Word2Vec(sentences=tokenized_text,\n",
        "                                            vector_size=self.vector_size,\n",
        "                                            window=self.window,\n",
        "                                            min_count=self.min_count,\n",
        "                                            workers=self.workers)\n",
        "        self.model.train(tokenized_text, total_examples=len(tokenized_text), epochs=10)\n",
        "        return self\n",
        "\n",
        "    def transform(self, X, y=None):\n",
        "        tokenized_text = [gensim.utils.simple_preprocess(text) for text in X]\n",
        "        return np.array([self.text_to_vector(tokens) for tokens in tokenized_text])\n",
        "\n",
        "    def text_to_vector(self, tokens):\n",
        "        vectors = [self.model.wv[token] for token in tokens if token in self.model.wv]\n",
        "        if len(vectors) == 0:\n",
        "            return np.zeros(self.vector_size)\n",
        "        return np.mean(vectors, axis=0)"
      ],
      "metadata": {
        "id": "QyvGkxGHzR_5"
      },
      "execution_count": 42,
      "outputs": [],
      "id": "QyvGkxGHzR_5"
    },
    {
      "cell_type": "code",
      "execution_count": 43,
      "metadata": {
        "outputId": "f73af76f-02d3-4e95-8e70-a3f8f4bb66fe",
        "colab": {
          "base_uri": "https://localhost:8080/"
        },
        "id": "cTF7dHMPzR_5"
      },
      "outputs": [
        {
          "output_type": "stream",
          "name": "stderr",
          "text": [
            "WARNING:gensim.models.word2vec:Effective 'alpha' higher than previous training cycles\n"
          ]
        },
        {
          "output_type": "stream",
          "name": "stdout",
          "text": [
            "V4 Original Report\n",
            "Confusion Matrix:\n",
            "[[751  12]\n",
            " [ 15 379]]\n",
            "AUC Score: 0.9937396464663265\n",
            "Balanced Accuracy Score: 0.9731007710679858\n",
            "F1 Score: 0.9656050955414013\n"
          ]
        }
      ],
      "source": [
        "# Loading the training and testing datasets\n",
        "train_df = pd.read_csv('sample_data/trainData.csv')\n",
        "test_df = pd.read_csv('sample_data/testData.csv')\n",
        "valid_df = pd.read_csv('sample_data/validationData.csv')\n",
        "\n",
        "# Combining the subject and body into a single text feature for better context in both datasets\n",
        "train_df['text'] = train_df['Subject'].fillna('') + \" \" + train_df['Body'].fillna('')  # Fill NaN with empty string\n",
        "test_df['text'] = test_df['Subject'].fillna('') + \" \" + test_df['Body'].fillna('')  # Fill NaN with empty string\n",
        "valid_df['text'] = valid_df['Subject'].fillna('') + \" \" + valid_df['Body'].fillna('')  # Fill NaN with empty string\n",
        "\n",
        "# Defining the feature and target variable for training and testing\n",
        "X_train = train_df['text']\n",
        "y_train = train_df['label']\n",
        "X_test = test_df['text']\n",
        "y_test = test_df['label']\n",
        "X_valid = valid_df['text']\n",
        "y_valid = valid_df['label']\n",
        "\n",
        "\n",
        "# Creating a pipeline with Word2VecTransformer and Logistic Regression\n",
        "pipeline = Pipeline([\n",
        "    ('word2vec', Word2VecTransformer(vector_size=100, window=5, min_count=1, workers=4)),\n",
        "    ('classifier', LogisticRegression(random_state=42, max_iter=500))\n",
        "])\n",
        "\n",
        "# Training the model on the training data\n",
        "pipeline.fit(X_train, y_train)\n",
        "\n",
        "# Predicting on the test data\n",
        "y_pred = pipeline.predict(X_test)\n",
        "y_pred_prob = pipeline.predict_proba(X_test)[:, 1]\n",
        "\n",
        "# Evaluating the model\n",
        "auc = roc_auc_score(y_test, y_pred_prob)\n",
        "cm = confusion_matrix(y_test, y_pred)\n",
        "\n",
        "balanced_acc = balanced_accuracy_score(y_test, y_pred)\n",
        "f1 = f1_score(y_test, y_pred)\n",
        "\n",
        "print(\"V4 Original Report\")\n",
        "print(\"Confusion Matrix:\")\n",
        "print(cm)\n",
        "print(\"AUC Score:\", auc)\n",
        "print(\"Balanced Accuracy Score:\", balanced_acc)\n",
        "print(\"F1 Score:\", f1)\n"
      ],
      "id": "cTF7dHMPzR_5"
    },
    {
      "cell_type": "markdown",
      "metadata": {
        "id": "QkWs_gP6zR_6"
      },
      "source": [
        "## Cross Validation"
      ],
      "id": "QkWs_gP6zR_6"
    },
    {
      "cell_type": "code",
      "execution_count": 44,
      "metadata": {
        "colab": {
          "base_uri": "https://localhost:8080/"
        },
        "outputId": "11635244-fd13-46ff-bd1a-bba834ea3b33",
        "id": "yDrIrC53zR_6"
      },
      "outputs": [
        {
          "output_type": "stream",
          "name": "stdout",
          "text": [
            "V4 Cross Validation Report\n"
          ]
        },
        {
          "output_type": "stream",
          "name": "stderr",
          "text": [
            "WARNING:gensim.models.word2vec:Effective 'alpha' higher than previous training cycles\n"
          ]
        },
        {
          "output_type": "stream",
          "name": "stdout",
          "text": [
            "Best Parameters: {'classifier__C': 1, 'classifier__penalty': 'l2', 'classifier__solver': 'lbfgs'}\n",
            "Best Cross-Validation F1 Score: 0.9416087288820512\n",
            "\n",
            "For Valid Dataset:\n"
          ]
        },
        {
          "output_type": "stream",
          "name": "stderr",
          "text": [
            "WARNING:gensim.models.word2vec:Effective 'alpha' higher than previous training cycles\n",
            "WARNING:gensim.models.word2vec:Effective 'alpha' higher than previous training cycles\n",
            "WARNING:gensim.models.word2vec:Effective 'alpha' higher than previous training cycles\n",
            "WARNING:gensim.models.word2vec:Effective 'alpha' higher than previous training cycles\n",
            "WARNING:gensim.models.word2vec:Effective 'alpha' higher than previous training cycles\n"
          ]
        },
        {
          "output_type": "stream",
          "name": "stdout",
          "text": [
            "Cross Validation AUC Scores on Validation Data: [0.97100582 0.98221006 0.96662043 0.95092769 0.97753486]\n",
            "Mean AUC Score on Validation Data: 0.9696597704816551\n",
            "\n",
            "For Test Dataset:\n",
            "Confusion Matrix:\n",
            "[[750  13]\n",
            " [ 16 378]]\n",
            "AUC Score: 0.9943384050402166\n",
            "Balanced Accuracy Score: 0.9711764275402333\n",
            "F1 Score: 0.9630573248407643\n"
          ]
        }
      ],
      "source": [
        "print(\"V4 Cross Validation Report\")\n",
        "\n",
        "y_pred_prob_best = cross_validation(pipeline, X_train, y_train, X_test, y_test, X_valid, y_valid, 'classifier__solver')"
      ],
      "id": "yDrIrC53zR_6"
    },
    {
      "cell_type": "markdown",
      "source": [
        "## Best Threshold\n"
      ],
      "metadata": {
        "id": "gGtMXFxuzR_6"
      },
      "id": "gGtMXFxuzR_6"
    },
    {
      "cell_type": "code",
      "source": [
        "print(\"V4 Best Threshold Report\")\n",
        "\n",
        "best_threshold_selection(y_pred_prob_best, y_test)"
      ],
      "metadata": {
        "colab": {
          "base_uri": "https://localhost:8080/",
          "height": 566
        },
        "id": "kSTbxjsczR_7",
        "outputId": "5ebcd1af-90af-44eb-9865-42d9e3e5198c"
      },
      "execution_count": 45,
      "outputs": [
        {
          "output_type": "stream",
          "name": "stdout",
          "text": [
            "V4 Best Threshold Report\n",
            "Best Threshold: 0.48\n",
            "Confusion Matrix at Best Threshold:\n",
            "[[750  13]\n",
            " [ 15 379]]\n"
          ]
        },
        {
          "output_type": "display_data",
          "data": {
            "text/plain": [
              "<Figure size 400x400 with 1 Axes>"
            ],
            "image/png": "[encoded data removed]"
          },
          "metadata": {}
        },
        {
          "output_type": "stream",
          "name": "stdout",
          "text": [
            "\n",
            "AUC Score: 0.9943384050402166\n",
            "Balanced Accuracy Score: 0.9724454630732282\n",
            "Best F1 Score: 0.9643765903307889\n"
          ]
        }
      ],
      "id": "kSTbxjsczR_7"
    },
    {
      "cell_type": "markdown",
      "id": "ebb4b52a-6b66-4a95-8ff4-e0624d3e8f6c",
      "metadata": {
        "id": "ebb4b52a-6b66-4a95-8ff4-e0624d3e8f6c"
      },
      "source": [
        "# V5: Dataset with validation set (Bag-of-words)"
      ]
    },
    {
      "cell_type": "code",
      "execution_count": 46,
      "id": "2c5a4bfa-32cf-4805-8a91-af04cfa76f67",
      "metadata": {
        "id": "2c5a4bfa-32cf-4805-8a91-af04cfa76f67",
        "colab": {
          "base_uri": "https://localhost:8080/"
        },
        "outputId": "eed5114b-6f61-455d-c27e-9b5db5457645"
      },
      "outputs": [
        {
          "output_type": "stream",
          "name": "stdout",
          "text": [
            "V5 Original Report\n",
            "Confusion Matrix:\n",
            "[[756   7]\n",
            " [ 22 372]]\n",
            "AUC Score: 0.99595505318972\n",
            "Balanced Accuracy Score: 0.967494062310809\n",
            "F1 Score: 0.96248382923674\n"
          ]
        }
      ],
      "source": [
        "# import pandas as pd\n",
        "# from sklearn.feature_extraction.text import CountVectorizer\n",
        "# from sklearn.linear_model import LogisticRegression\n",
        "# from sklearn.metrics import roc_auc_score, confusion_matrix, balanced_accuracy_score, f1_score\n",
        "# from sklearn.pipeline import Pipeline\n",
        "\n",
        "# Loading the training and testing datasets\n",
        "train_df = pd.read_csv('sample_data/trainData.csv')\n",
        "test_df = pd.read_csv('sample_data/testData.csv')\n",
        "valid_df = pd.read_csv('sample_data/validationData.csv')\n",
        "\n",
        "# Combining the subject and body into a single text feature for better context in both datasets\n",
        "train_df['text'] = train_df['Subject'].fillna('') + \" \" + train_df['Body'].fillna('')  # Fill NaN with empty string\n",
        "test_df['text'] = test_df['Subject'].fillna('') + \" \" + test_df['Body'].fillna('')  # Fill NaN with empty string\n",
        "valid_df['text'] = valid_df['Subject'].fillna('') + \" \" + valid_df['Body'].fillna('')  # Fill NaN with empty string\n",
        "\n",
        "# Defining the feature and target variable for training and testing\n",
        "X_train = train_df['text']\n",
        "y_train = train_df['label']\n",
        "X_test = test_df['text']\n",
        "y_test = test_df['label']\n",
        "X_valid = valid_df['text']\n",
        "y_valid = valid_df['label']\n",
        "\n",
        "# Creating a pipeline with Count Vectorizer and Logistic Regression\n",
        "pipeline = Pipeline([\n",
        "    ('vectorizer', CountVectorizer(stop_words='english')),\n",
        "    ('classifier', LogisticRegression(random_state=42))\n",
        "])\n",
        "\n",
        "# Training the model on the training data\n",
        "pipeline.fit(X_train, y_train)\n",
        "\n",
        "# Predicting on the test data\n",
        "y_pred = pipeline.predict(X_test)\n",
        "y_pred_prob = pipeline.predict_proba(X_test)[:, 1]\n",
        "\n",
        "# Evaluating the model\n",
        "auc = roc_auc_score(y_test, y_pred_prob)\n",
        "cm = confusion_matrix(y_test, y_pred)\n",
        "balanced_acc = balanced_accuracy_score(y_test, y_pred)\n",
        "f1 = f1_score(y_test, y_pred)\n",
        "\n",
        "print(\"V5 Original Report\")\n",
        "print(\"Confusion Matrix:\")\n",
        "print(cm)\n",
        "print(\"AUC Score:\", auc)\n",
        "print(\"Balanced Accuracy Score:\", balanced_acc)\n",
        "print(\"F1 Score:\", f1)"
      ]
    },
    {
      "cell_type": "markdown",
      "id": "ac4b85a2-a432-4069-8cbb-28b392eaeecc",
      "metadata": {
        "id": "ac4b85a2-a432-4069-8cbb-28b392eaeecc"
      },
      "source": [
        "## Cross Validation"
      ]
    },
    {
      "cell_type": "code",
      "execution_count": 47,
      "id": "9717904e-8358-4b46-9b40-392861dca79c",
      "metadata": {
        "id": "9717904e-8358-4b46-9b40-392861dca79c",
        "colab": {
          "base_uri": "https://localhost:8080/"
        },
        "outputId": "3c229304-4d8e-4050-a34f-a10427b7e433"
      },
      "outputs": [
        {
          "output_type": "stream",
          "name": "stdout",
          "text": [
            "V5 Cross Validation Report\n",
            "Best Parameters: {'classifier__C': 1, 'classifier__penalty': 'l2', 'vectorizer__ngram_range': (1, 2)}\n",
            "Best Cross-Validation F1 Score: 0.9605182270478627\n",
            "\n",
            "For Valid Dataset:\n",
            "Cross Validation AUC Scores on Validation Data: [0.98785494 0.99495381 0.99471129 0.98578117 0.99638492]\n",
            "Mean AUC Score on Validation Data: 0.9919372270320836\n",
            "\n",
            "For Test Dataset:\n",
            "Confusion Matrix:\n",
            "[[757   6]\n",
            " [ 23 371]]\n",
            "AUC Score: 0.9970161864401141\n",
            "Balanced Accuracy Score: 0.9668803347725715\n",
            "F1 Score: 0.9623865110246433\n"
          ]
        }
      ],
      "source": [
        "print(\"V5 Cross Validation Report\")\n",
        "\n",
        "y_pred_prob_best = cross_validation(pipeline, X_train, y_train, X_test, y_test, X_valid, y_valid, 'vectorizer__ngram_range')"
      ]
    },
    {
      "cell_type": "markdown",
      "source": [
        "## Best Threshold"
      ],
      "metadata": {
        "id": "MGFsel8A7Qox"
      },
      "id": "MGFsel8A7Qox"
    },
    {
      "cell_type": "code",
      "source": [
        "print(\"V5 Best Threshold Report\")\n",
        "\n",
        "best_threshold_selection(y_pred_prob_best, y_test)"
      ],
      "metadata": {
        "id": "S-SF8k047SIn",
        "colab": {
          "base_uri": "https://localhost:8080/",
          "height": 566
        },
        "outputId": "3a883b15-42f3-4d9d-ef80-8d732fb42506"
      },
      "id": "S-SF8k047SIn",
      "execution_count": 48,
      "outputs": [
        {
          "output_type": "stream",
          "name": "stdout",
          "text": [
            "V5 Best Threshold Report\n",
            "Best Threshold: 0.26\n",
            "Confusion Matrix at Best Threshold:\n",
            "[[748  15]\n",
            " [ 11 383]]\n"
          ]
        },
        {
          "output_type": "display_data",
          "data": {
            "text/plain": [
              "<Figure size 400x400 with 1 Axes>"
            ],
            "image/png": "[encoded data removed]"
          },
          "metadata": {}
        },
        {
          "output_type": "stream",
          "name": "stdout",
          "text": [
            "\n",
            "AUC Score: 0.9970161864401141\n",
            "Balanced Accuracy Score: 0.9762109892156927\n",
            "Best F1 Score: 0.9671717171717171\n"
          ]
        }
      ]
    }
  ],
  "metadata": {
    "colab": {
      "provenance": [],
      "collapsed_sections": [
        "DyYHkJADA6z7",
        "6f3a4ce8-36a3-47fc-aafe-9a495bae0d44",
        "0511f3cc-96de-44ba-ac01-8941727cdb95",
        "e7883819-6c07-46cf-b661-b2ffab02d834",
        "906950b5-7cfa-4f91-9faa-da2638ddf33f",
        "ebb4b52a-6b66-4a95-8ff4-e0624d3e8f6c"
      ]
    },
    "kernelspec": {
      "display_name": "Python 3 (ipykernel)",
      "language": "python",
      "name": "python3"
    },
    "language_info": {
      "codemirror_mode": {
        "name": "ipython",
        "version": 3
      },
      "file_extension": ".py",
      "mimetype": "text/x-python",
      "name": "python",
      "nbconvert_exporter": "python",
      "pygments_lexer": "ipython3",
      "version": "3.12.3"
    }
  },
  "nbformat": 4,
  "nbformat_minor": 5
}